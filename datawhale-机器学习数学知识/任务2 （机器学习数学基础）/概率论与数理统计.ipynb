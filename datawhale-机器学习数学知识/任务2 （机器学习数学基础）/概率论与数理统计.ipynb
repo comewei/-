{
 "cells": [
  {
   "cell_type": "markdown",
   "source": [
    "各位同学大家好，欢迎大家来到《概率论与数理统计》的世界，这门课的实用性可能超乎大家的想象，用一句话形容《概率论与数理统计》，那就是：除了生孩子不行，其他都行。《概率论与数理统计》相对于另外两门课《高等数学》、《线性代数》来说，更倾向于解释这个世界运行的规律，研究这个世界随机的现象。本章的主要内容如下：\n",
    "   - 概率论与数理统计与python应用\n",
    "      - 条件概率与贝叶斯公式\n",
    "      - 随机变量、分布函数与密度函数\n",
    "      - 使用numpy与matplotlib可视化密度函数\n",
    "      - 随机变量的数字特征----均值方差\n",
    "      - 多维随机变量的概念\n",
    "      - 大数定律与中心极限定理\n",
    "      - 样本与总体的概念\n",
    "      - 估计的概念与极大似然估计\n",
    "      - 统计学实例：极大似然估计与抛硬币\n",
    "      \n",
    "本章的理论部分主要参考茆诗松老师的《概率论与数理统计》"
   ],
   "metadata": {}
  },
  {
   "cell_type": "markdown",
   "source": [
    "# 2.3 概率论与数理统计与python应用"
   ],
   "metadata": {}
  },
  {
   "cell_type": "markdown",
   "source": [
    "在概率论与数理统计与python应用中，主要是三个部分：概率论、数理统计以及python应用，这三部分是看似相互独立但是实质是互相联系的，在后面的学习就会深有体会。现在，我们先用几个案例的引入，来讲讲为什么需要学习《概率论与数理统计》，首先是关于概率论的例子：\n",
    "\n",
    "在英语的写作中，每个英文字母的使用频率是不同的，每个英文字母的使用频率如下：\n",
    "\n",
    "$$\n",
    "\\begin{array}{cccccc}\n",
    "\\hline \\text { 字母 } & \\text { 频率 } & \\text { 字母 } & \\text { 频率 } & \\text { 字母 } & \\text { 频率 } \\\\\n",
    "\\hline E & 0.130 & D & 0.044 & G & 0.014 \\\\\n",
    "T & 0.090 & L & 0.036 & B & 0.013 \\\\\n",
    "O & 0.081 & C & 0.029 & V & 0.010 \\\\\n",
    "A & 0.078 & F & 0.028 & K & 0.004 \\\\\n",
    "N & 0.073 & U & 0.028 & X & 0.003 \\\\\n",
    "I & 0.068 & M & 0.026 & J & 0.001 \\\\\n",
    "R & 0.067 & P & 0.022 & Q & 0.001 \\\\\n",
    "S & 0.065 & Y & 0.015 & Z & 0.001 \\\\\n",
    "H & 0.058 & W & 0.015 & & \\\\\n",
    "\\hline\n",
    "\\end{array}\n",
    "$$\n",
    "\n",
    "研究发现，各个字母的使用频率是相当稳定的，我们可以近似的看成概率，这项研究对于信息学的编码和密码学的破译都有着重要的贡献。\n",
    "\n",
    "其次，我们再来说说数理统计的一个经典例子：女士品茶。一位女士声称自己能分喝出一杯奶茶是先加的奶还是先加的茶。人们为了证明她说的是不是真的，于是拿来十杯奶茶让她分辨，结果全部说中。如果这是蒙的，那蒙对的概率是1/1024，于是大家判断她是真的能分辨。从刚刚的女士品茶的例子可以发现，统计学可以让我们得到一些观点推断的结果，并给出相信的可能性有多大。\n",
    "\n",
    "那话不多说，我们现在开始学习吧！"
   ],
   "metadata": {}
  },
  {
   "cell_type": "markdown",
   "source": [
    "## 2.3.1 条件概率与贝叶斯公式"
   ],
   "metadata": {}
  },
  {
   "cell_type": "markdown",
   "source": [
    "在讲述条件概率之前，我们先来认识概率论的几个重要的前提概念，那就是：\n",
    "   - 随机现象与随机试验\n",
    "   - 样本点与样本空间\n",
    "   - 随机事件、事件间的关系以及事件的运算\n",
    "   - 事件的概率\n",
    "   - 事件的独立性\n",
    "   \n",
    "（1）随机现象：在一定条件下,并不总是出现相同结果的现象。现实生活中，我们总是能见到不少的随机现象，如：\n",
    "   - 一位顾客在超市购买的商品件数;\n",
    "   - 一位顾客在超市排队等候付款的时间;\n",
    "   - 一颗麦穂上长着麦粒个数;\n",
    "   - 一台电视机的寿命(从开始使用到第一次维修的时间);\n",
    "   - 某城市一天内发生交通事故的次数;\n",
    "   - 测量某物理量(长度、直径等)的误差。\n",
    "   \n",
    "换一句话来说，如果事件的结果是固定的，我们可能会用另一个关系来表示，那就是《高等数学》中的确定性的函数关系。如果事件的结果是不固定的，我们希望得到每一种可能的结果出现的可能性的大小，并以此做出决策。那如何得到每一种可能的结果出现的可能性的大小呢？最简单的方式就是：做试验！\n",
    "\n",
    "（2）随机试验：可重复的随机现象。很多随机现象是可以大量重复的，如抛一枚硬币可以无限次重复，不同麦穗上的麦粒数可以大量观察等，这种可重复的随机现象又称为**随机试验**，简称试验。以后常把检验一件产品看作做一次试验，观察一颗麦穗上的麦粒数也看作一次试验。但是也有很多随机现象是不能重复的，明年世界经济是增长还是衰退，一场足球赛的输贏都是不能重复的随机现象。现在介绍的概率论主要研究能大量重复的随机现象，但应十分注意的是，也要注意研究不能重复的随机现象。因为后者在我们经济生活中占有重要地位。\n",
    "\n",
    "（3）样本点：认识一个随机现象首要的是能罗列出它的一切可能发生的基本结果，这里“基本结果”是指随机现象的最简单的结果，如抛一枚硬币就有两个基本结果：正面，反面；拼一颗骰子就有六个基本结果：1 点， 2 点， 3 点， 4 点， 5 点， 6 点。\n",
    "\n",
    "（4）样本空间：随机现象所有基本结果（样本点）的全体称为这个随机现象的样本空间。常用 $\\Omega=$ $\\{\\boldsymbol{\\omega}\\}$ 表示，其中元素 $\\omega$ 就是样本点。在统计学中，基本结果 $\\omega$ 将是抽样的基本单元，故基本结果又称为样本点，基本空间又称为样本空间，如抛一枚硬币的基本空间（样本空间）为\n",
    "$$\n",
    "\\Omega_{1}=\\left\\{\\omega_{0}, \\omega_{1}\\right\\}=\\{\\text { 正面, 反面 }\\}\n",
    "$$\n",
    "其中， $\\omega_{0}$ 表示正面， $\\omega_{1}$ 表示反面， 又如掷一颗骰子的基本空间为\n",
    "$$\n",
    "\\Omega_{2}=\\left\\{\\omega_{1}, \\omega_{2}, \\omega_{3}, \\omega_{4}, \\omega_{5}, \\omega_{6}\\right\\}=\\{1,2,3,4,5,6\\}\n",
    "$$\n",
    "下面用一些例子说明：\n",
    "   - “一台电视机的寿命”的基本空间可用非负实数集表示，即\n",
    "$$\n",
    "\\Omega_{4}=\\{x: x \\geqslant 0\\}\n",
    "$$\n",
    "   - “测量某物理量的误差”的基本空间常用整个实数集表示，即\n",
    "$$\n",
    "\\Omega_{5}=\\{x:-\\infty<x<\\infty\\}\n",
    "$$\n",
    "\n",
    "（5）随机事件：随机现象的某些基本结果组成的集合称为随机事件，简称事件,常用大写字母 $A, B, C$ 等表示，如在抛一颗骰子，“出现奇数点”是一个事件，它是由 1 点、 3 点、 5 点三个基本结果组成，若记这个事件为 $A$， 则有 $A=\\{1,3,5\\}$ 。\n",
    "\n",
    "例：抛两枚硬币的基本空间 $\\Omega$ 由下列四个基本结果组成:\n",
    "$$\n",
    "\\begin{array}{ll}\n",
    "\\omega_{1}=(\\text { 正, 正 }) & \\omega_{2}=(\\text { 正, 反 }) \\\\\n",
    "\\omega_{3}=(\\text { 反, 正 }) & \\omega_{4}=(\\text { 反, 反 })\n",
    "\\end{array}\n",
    "$$\n",
    "下面几个事件可用集合形式表示，也可用语言形式表示。\n",
    "$$\n",
    "\\begin{aligned}\n",
    "&A=“ \\text { 至少出现一个正面\" }=\\left\\{\\omega_{1}, \\omega_{2}, \\omega_{3}\\right\\} . \\\\\n",
    "&B=“ \\text { 最多出现一个正面\" }=\\left\\{\\omega_{2}, \\omega_{3}, \\omega_{4}\\right\\} \\\\\n",
    "&C=“ \\text { 恰好出现一个正面 } \"=\\left\\{\\omega_{2}, \\omega_{3}\\right\\} \\\\\n",
    "&D=“ \\text { 出现两面相同\" }=\\left\\{\\omega_{1}, \\omega_{4}\\right\\}\n",
    "\\end{aligned}\n",
    "$$\n",
    "\n",
    "（6）事件间的关系：\n",
    "   - 事件的包含关系：设在同一个试验里有两个事件 $A$ 与 $B$，若事件 $A$ 中任一基本结果必在 $B$ 中，则称 $A$ 被包含在 $B$ 中，或 $B$ 包含 $A$， 记为 $A \\subset B$ 或 $B \\supset A$ ，这时事件 $A$ 的发生必导致事件 $B$ 的发生 。\n",
    "   - 事件的相等关系：设在同一试验里有两个事件 $A$ 与 $B$ 。若 $A$ 中任一基本结果必在 $B$ 中 $(A \\subset B)$，而 $B$ 中任一基本结果也必在 $A$ 中 $(B \\subset A)$， 则称事件 $A$ 与 $B$ 相等，记为 $A=B$， 这时 $A$ 与 $B$ 必含有相同的基本结果。\n",
    "   - 事件的互不相客性：在同一个试验里，若两个事件 $A$ 与 $B$ 没有相同的基本结果，则称事件 $A$ 与 $B$ 互不相容，或称互斥。这时事件 $A$ 与 $B$ 不可能同时发生。\n",
    "   - 必然事件与不可能事件：任一个基本空间 $\\Omega$ 都有一个最大子集(基本空间本身 $\\Omega$ )和一个最小子集，用空集符号 $\\phi$ 表示。最大子集就是必然事件，最小子集就是不可能事件。\n",
    "   \n",
    "（7）事件的运算：\n",
    "   - 对立事件：设 $A$ 为一个试验里的事件，则由不在 $A$ 中的一切基本结果组成的事件称为 $A$ 的对立事件，记为 $\\bar{A}$ 。如在掷一颗骰子的试验中，事件 $A=$ “出现偶数点”的对立事件 $\\bar{A}=$ “出现奇数点”。因为不出现偶数点必出现奇数点。\n",
    "   - 并运算：事件 $\\boldsymbol{A}$ 与 $\\boldsymbol{B}$ 的并，是由事件 $A$ 与 $B$ 中所有基本结果（相同的只计入一次)组成的一个新事件，记为 $A \\cup B$ 。在掷一颗骰子的试验中，事件 $A=$ “出现奇数点” $=\\{1,3,5\\}$ 与事件 $B=$ “出现点数不超过 $3 \"=\\{1,2,3\\}$ 的并为 $A \\cup B=\\{1,2,3,5\\}$ 。 可见，事件 $A$ 与 $B$ 中重复元素只须记入并事件一次。\n",
    "   - 交运算：事件 $A$ 与 $B$ 的交，是由事件 $A$ 与 $B$ 中公共的基本结果组成的一个新事件，记为 $A \\cap B$ 或 $A B$ 。如在掷一颗骰子的试验里，$A=$ “出现奇数点” $=\\{1$, $3,5\\}$ 与事件 $B=$ “出现点数不超过3 \" $=\\{1,2,3\\}$ 的交 $A B=\\{1,3\\}$ 。 可见，若交事件 $A B$ 发生，则事件 $A$ 与 $B$ 必同时发生,反之亦然。\n",
    "   - 差运算：事件 $\\boldsymbol{A}$ 对 $\\boldsymbol{B}$ 的差，是由在事件 $A$ 中而不在事件 $B$ 中的基本结果组成的一个新事件，记为 $A-B$ 。如在掷一颗骰子试验里，事件 $A=$ “出现奇数点” $=\\{1,3,5\\}$ 对事件 $B=$ “出现点数不超过3 \" $=\\{1,2,3\\}$ 的差事件是 $A-B=\\{5\\}$ 。而 $B$ 对 $A$ 的差事件 $B-A=\\{2\\}$ 。这是两个不同的差事件。可见，差事件 $A-B$ 是表示事件 $A$ 发生而事件 $B$ 不发生这样一个事件。\n",
    "   \n",
    "（8）事件的概率：随机事件的发生是带有偶然性的。但随机事件发生的可能性还是有大小之别的,是可以设法度量的。而在生活、生产和经济活动中人们很关心一个随机事件发生的可能性大小。那如何去度量一个事件发生的概率呢？其中一种简单的方式就是使用频率代替概率，但是这种方法有一个致命的弊端，我们使用一个例子去说明！众多科学家都对硬币正反面的概率是0.5进行了验证：\n",
    "\n",
    "$$\n",
    "\\begin{array}{lccc}\n",
    "\\hline \\text { 实验者 } & \\text { 拼硬币次数 } & \\text { 正面出现次数 } & \\text { 频率 } \\\\\n",
    "\\hline \\text { 蒲 } \\quad \\text { 来 } & 4040 & 2048 & 0.5069 \\\\\n",
    "\\text { 皮尔逊 } & 12000 & 6019 & 0.5016 \\\\\n",
    "\\text { 皮尔逊 } & 24000 & 12012 & 0.5005 \\\\\n",
    "\\hline\n",
    "\\end{array}\n",
    "$$\n",
    "\n",
    "那究竟硬币正反面的概率是多少呢，是0.5069，还是0.5016，亦或是0.5005呢？问题的本质就是一个试验发生的频率有无限种可能，它可能取决于试验的次数、试验的环境、试验者的心态等等，但是一个事件的概率往往只有一个，因此使用频率代替概率本身就不是一件容易的事情，那如何定义概率呢？\n",
    "\n",
    "概率的公理化定义：在一个随机现象中，用来表示任一个随机事件 $A$ 发生可能性大小的实数(即比率)称为该事件的概率，记为 $P(A)$， 并规定\n",
    "   - 非负性公理：对任一事件 $A$，必有 $P(A) \\geqslant 0$ 。\n",
    "   - 正则性公理：必然事件的概率 $P(\\Omega)=1$ 。\n",
    "   - 可加性公理： 若 $A_{1}$ 与 $A_{2}$ 是两个互不相容事件(即 $\\left.A_{1} A_{2}=\\phi\\right)$, 则有 $P\\left(A_{1} \\cup A_{2}\\right)=P\\left(A_{1}\\right)+P\\left(A_{2}\\right)$\n",
    "   \n",
    "（9）事件的独立性：两个事件之间的独立性是指一个事件的发生不影响另一个事件的发生，$A=$ “第一颗骰子出现 1 点”，$B=$ “第二颗骰子出现偶数点”，\n",
    "经验事实告诉我们，第一颗骰子出现的点数不会影响第二颗骰子出现的点数，假如规定第二颗骰子出现偶数点可得奖，那么不管第一颗骰子出现什么点都不会影响你得奖的机会，这时就可以说:事件 $A$ 与 $B$ 独立。那么使用概率的语言是如何定义事件的独立性呢？\n",
    "事件的独立性的定义：对任意两个事件 $A$ 与 $B$, 若有 $P(A B)=P(A) P(B)$， 则称事件 $\\boldsymbol{A}$ 与 $\\boldsymbol{B}$ 相互独立，简称 $A$ 与$B$独立。\n",
    "\n",
    "到现在为止，我们终于可以介绍条件概率与贝叶斯公式了。\n",
    "\n",
    "### 条件概率\n",
    "   \n",
    "条件概率要涉及两个事件 $A$ 与 $B$ ，在事件 $B$ 已发生的条件下，事件 $A$ 再发生的概率称为条件概率，记为 $P(A \\mid B)$， 它与前面讲的事件 $A$ 的 (无条件)概率 $P(A)$ 是两个不同的概念。那问题来了，在事件 $B$ 已发生的条件下，事件 $A$ 再发生的概率$P(A \\mid B)$与(无条件)概率 $P(A)$之间的差别在哪呢？我们先来看一个图：\n",
    "\n",
    "![jupyter](./picture/15.png)\n",
    "\n",
    "从图中可以看出，(无条件)概率 $P(A)$指的是从样本空间$\\Omega$中选出符合事件A定义的基本点的个数比例，即$P(A) = \\frac{N_A}{N_{\\Omega}}$；反观在事件 $B$ 已发生的条件下，事件 $A$ 再发生的概率$P(A \\mid B)$，由于时间$B$已经发生了，因此这个事件的样本空间由$\\Omega$缩减为$B$，因此$P(A \\mid B) = \\frac{N_{AB}}{N_B}=\\frac{\\frac{N_{AB}}{N_{\\Omega}}}{\\frac{N_B}{N_{\\Omega}}} = \\frac{P(AB)}{P(B)}$，因此我们给出条件概率的准确定义：\n",
    "\n",
    "设 $A$ 与 $B$ 是基本空间 $\\Omega$ 中的两个事件,且 $P(B)>0$,在事件 $\\boldsymbol{B}$ 已发生的条件下, 事件 $\\boldsymbol{A}$ 的条件概率 $\\boldsymbol{P}(\\boldsymbol{A} \\mid \\boldsymbol{B})$ 定义为 $P(A B) / P(B)$, 即\n",
    "$$\n",
    "P(A \\mid B)=\\frac{P(A B)}{P(B)}\n",
    "$$\n",
    "其中 $P(A \\mid B)$ 也称为给定事件 $\\boldsymbol{B}$ 下事件 $\\boldsymbol{A}$ 的条件概率。\n",
    "\n",
    "下面用一个例子说明条件概率的计算方法：某市的一项调查表明：该市有 $30 \\%$ 的学生视力有缺陷。 $7 \\%$ 的 学生听力有缺陷, $3 \\%$ 的学生视力与听力都有缺陷,记\n",
    "$$\n",
    "\\begin{aligned}\n",
    "&E=\\text { “学生视力有缺陷”, } P(E)=0.30\\\\\n",
    "&H=“ \\text { 学生听力有缺陷\" }, \\quad P(H)=0.07 \\\\\n",
    "&E H=\\text { “学生视力与听力都有缺陷”, } \\quad P(E H)=0.03\n",
    "\\end{aligned}\n",
    "$$\n",
    "如果已知一学生听力有缺陷,那么他视力也有缺陷的概率是多少? 类似地可算得\n",
    "$$\n",
    "P(E \\mid H)=\\frac{P(E H)}{P(H)}=\\frac{0.03}{0.07}=\\frac{3}{7}\n",
    "$$\n",
    "\n",
    "下面，我们来看看条件概率有什么重要的性质：\n",
    "   - 乘法公式：对任意两个事件 $A$ 与 $B$, 有$P(A B)=P(A \\mid B) P(B)=P(B \\mid A) P(A)$。这个公式表明：$AB$事件同时发生的概率等于先让事件$B$发生，再在事件$B$发生的条件下事件$A$发生的概率；也等于先让事件$A$发生，再在事件$A$发生的条件下事件$B$发生的概率。\n",
    "   - 事件独立性的条件概率表述：假如事件 $A$ 与 $B$ 独立,且 $P(B)>0$,则 $P(A \\mid B)=P(A)$, 反之亦然。\n",
    "   - 全概率公式：设 $B_{1}, B_{2}, \\cdots, B_{n}$ 是基本空间 $\\Omega$ 的一个分割,则对 $\\Omega$ 中任一事件 $A$,有(具体的解释如下图)\n",
    "$$\n",
    "P(A)=\\sum_{i=1}^{n} P\\left(A \\mid B_{i}\\right) P\\left(B_{i}\\right)\n",
    "$$\n",
    "\n",
    "![jupyter](./picture/16.png)\n",
    "\n",
    "如图所示，A所占全体的面积等于A占比各个分割的面积的和，因此$P(A)=\\sum_{i=1}^{n} P\\left(A \\mid B_{i}\\right) P\\left(B_{i}\\right)$。下面用一个例子使用全概率公式：一批产品来自三个工厂，要求这批产品的合格率。为此对这三个工厂的产品进行调查,发现甲厂产品合格率为 $95 \\%$, 乙厂产品合格率为 $80 \\%$,丙厂产品合格率为 $65 \\%$ 。这批产品中有 $60 \\%$ 来自甲厂, $30 \\%$ 来自乙厂, 余下 $10 \\%$ 来自丙厂。\n",
    "\n",
    "若记事件 $A=$ “产品合格”, $B_{1}=$ “产品来自甲厂” $ B_{2}=$ “产品来自乙厂“, $B_{3}=$ “产品来自丙厂\"。由上述调查可知\n",
    "$$\n",
    "\\begin{gathered}\n",
    "P\\left(A \\mid B_{1}\\right)=0.95, \\quad P\\left(A \\mid B_{2}\\right)=0.80, \\quad P\\left(A \\mid B_{3}\\right)=0.65 \\\\\n",
    "P\\left(B_{1}\\right)=0.60, \\quad P\\left(B_{2}\\right)=0.30, \\quad P\\left(B_{3}\\right)=0.10\n",
    "\\end{gathered}\n",
    "$$\n",
    "最后由全概率公式知\n",
    "$$\n",
    "\\begin{aligned}\n",
    "P(A) &=P\\left(A \\mid B_{1}\\right) P\\left(B_{1}\\right)+P\\left(A \\mid B_{2}\\right) P\\left(B_{2}\\right)+P\\left(A \\mid B_{3}\\right) P\\left(B_{3}\\right) \\\\\n",
    "&=0.95 \\times 0.60+0.80 \\times 0.30+0.65 \\times 0.10 \\\\\n",
    "&=0.875\n",
    "\\end{aligned}\n",
    "$$\n",
    "这批产品的合格率为 $0.875$ 。\n",
    "\n",
    "### 贝叶斯公式\n",
    "\n",
    "结合条件概率公式、乘法公式和全概率公式，我们能得到伟大的贝叶斯公式。现在，我们假定由于某些原因$P\\left(B_{k} \\mid A\\right)$直接计算是十分难求的，但是$P\\left(A \\mid B_{k}\\right)$求起来相对简单，但是我们需要求解$P\\left(B_{k} \\mid A\\right)$的值，怎么办呢？能不能用简单的$P\\left(A \\mid B_{k}\\right)$求解复杂的$P\\left(B_{k} \\mid A\\right)$呢？\n",
    "\n",
    "首先，我们写出所要求的复杂的$P\\left(B_{k} \\mid A\\right)$的定义公式，即：\n",
    "$$\n",
    "P\\left(B_{k} \\mid A\\right) = \\frac{P(AB_k)}{P(A)}\n",
    "$$\n",
    "其次，我们对分子分母分别使用乘法公式和全概率公式展开，即：\n",
    "$$\n",
    "P\\left(B_{k} \\mid A\\right)=\\frac{P\\left(A \\mid B_{k}\\right) P\\left(B_{k}\\right)}{\\sum_{i=1}^{n} P\\left(A \\mid B_{i}\\right) P\\left(B_{i}\\right)}, \\quad k=1,2, \\cdots, n\n",
    "$$\n",
    "至此，伟大的贝叶斯公式就被推导出来了。\n",
    "\n",
    "下面，我们结合我们的所学，来看看著名的三门问题，看看我们应该如何使用概率的利器披荆斩棘的。三门问题（Monty Hall problem ), 是一个源自博弈论的数学游戏问题, 大致出自美国的 电视游戏节目 Let's Make a Deal。问题的名字来自该节目的主持人蒙提・霍尔 (Monty Hall)。这个游戏的玩法是：参赛者会看见三扇关闭了的门，其中一扇的后面有一辆汽车，选中后面有车的那扇门就可以赢得该汽车, 而另外两扇门后面则各藏有一只山羊。当参赛者选定了一扇门，但未去开启它的时候，节目主持人会开启剩下两扇门的其中一扇, 露出其中一只山羊。主持人其后会问参赛者要不要换另一扇仍然关上的门。问题是：换另一扇门会否增加参赛者赢得汽车的机会率？"
   ],
   "metadata": {
    "tags": []
   }
  },
  {
   "cell_type": "code",
   "execution_count": 1,
   "source": [
    "import random \n",
    "class ThreeDoor:\n",
    "    def __init__(self,n):\n",
    "        \"\"\"\n",
    "        n : int,试验的次数\n",
    "        \"\"\"\n",
    "        self.n = n\n",
    "        self.change = 0\n",
    "        self.No_change = 0\n",
    "    def start(self):\n",
    "        for i in range(self.n):\n",
    "            door_list = [1,2,3]   ## 三扇门\n",
    "            challenger = random.choice(door_list)   ## 随机选择了其中一扇\n",
    "            car_door = random.choice(door_list)     ## 随机选定车的门\n",
    "            door_list.remove(challenger)   ## 没有被挑战者选中的剩下的门\n",
    "            if challenger == car_door:\n",
    "                host_door = random.choice(door_list)\n",
    "                door_list.remove(host_door)        # 不换才能拿车\n",
    "                self.No_change += 1\n",
    "            else:\n",
    "                self.change += 1      # 换了才能拿车\n",
    "        print(\"换且能拿到车的概率：%.2f \" % (self.change/self.n * 100) + \"%\")\n",
    "        print(\"不换也能拿到车的概率：%.2f\"% (self.No_change/self.n * 100) + \"%\")\n",
    "\n",
    "if __name__ == \"__main__\":\n",
    "    td = ThreeDoor(1000000)\n",
    "    td.start()         "
   ],
   "outputs": [
    {
     "output_type": "stream",
     "name": "stdout",
     "text": [
      "换且能拿到车的概率：66.67 %\n",
      "不换也能拿到车的概率：33.33%\n"
     ]
    }
   ],
   "metadata": {}
  },
  {
   "cell_type": "markdown",
   "source": [
    "## 2.3.2 随机变量、分布函数与密度函数"
   ],
   "metadata": {}
  },
  {
   "cell_type": "markdown",
   "source": [
    "在刚才的讨论中，我们讨论了概率论中的一些基本概念，也着重介绍了条件概率及其性质中的乘法公式以及全概率公式和贝叶斯公式。但是人们对随机现象的兴趣常常集中在其结果的某个数量方面。譬如,质量检验员在检查 20 个产品中关心的是不合格品的个数。若记 20 个产品中不合格品的个数为 $X$, 则这个 $X$ 可能取 $0,1,2, \\cdots, 20$ 中任一个数,可见此 $X$ 是变量。 至于这个 $X$ 取哪一个数要看检査结果,事先不能确定，故此 $X$ 的取值又带有随机性,这样的变量又称为随机变量。这个随机变量 $X$ 是质量检验员的注意点。有了随机变量后,有关事件的表示也方便了。如“ $X=2$ ”表示“ 20 个产品中 有 2 个不合格品”这一事件, 又如“ $X \\leqslant 2$ ”表示“ 20 个产品中有不多于 2 个不合格品”这一事件。随机变量 $X$ 是基本结果 $\\omega$ 的函数,即可把 $X$ 记为 $X(\\omega)$。假如一个随机变量仅取数轴上的有限个或可列个孤立点, 则称此随机变量为离散随机变量。值充满数轴上的一个区间 $(a, b)$ , 则称此随机变量为连续随机变量,其中 $a$ 可以是 $-\\infty$, $b$ 可以是$＋\\infty$。\n",
    "\n",
    "例如：\n",
    "   - 抛一枚硬币,正面出现次数 $X$ 是仅可能取 0 与 1 两个值的随机变量。 $X=0$ \"表示“出现反面”, $X=1$ 表示“出现正面”。类似地,检査一个产品,不合格的个数 $Y$ 也是一个仅能取 0 与 1 两个值的随机变量。 $Y=0$表示“合格品”, $Y=1$表示“不合格品”。\n",
    "   - 检査 $n$ 个产品, 不合格品数 $X$ 是可能取 $0,1, \\cdots, n$ 等 $n+1$ 个值的随机变量, “ $X=x$ \"表示“ $n$ 个产品中有 $x$ 个不合格品”。类似地, $n$ 台车床中需要维修的车床数 $Y$ 也是可能取 $0,1, \\cdots, n$ 等 $n+1$ 个值的随机变量, “ $Y=y$ ”表 “ $n$ 台车床中有 $y$ 台需要维修”。\n",
    "   - 测量误差 $X$ 是可在 $(-\\infty, \\infty)$ 上取值的随机变量。 “$|X| \\leqslant 1 $“ 表示“测量误差 $X$ 在 $[-1,+1]$ 内”。\n",
    "   - 电视机的寿命 $Y$ (单位: 小时) 是 $(0, \\infty)$ 上取值的随机变量, \" $Y>10000$ \"表示“电视机寿命超过一万小时”。类似地,小客车每公里的耗油量 $Y$ (单位:升)也可看作在 $(0, \\infty)$ 上取值的随机变量。 “$Y \\leqslant 0.5$ ”表示“小客车每公里的耗油量不超过半升。”\n",
    "\n",
    "现在，我们已经可以使用随机变量去表示随机事件，但是我们仍需考虑这个问题：随机变量 $X$ 取这些值的概率是多少?换句话说就是：随机事件对应的随机变量取这些值的概率是多少？接下来我们来一起学习下可以很方便计算随机变量的概率的函数：分布函数。\n",
    "\n",
    "设 $X$ 为一个随机变量,对任意实数 $x$,事件“ $X \\leqslant x$ ”的概率 是 $x$ 的函数,记为\n",
    "$$\n",
    "F(x)=P(X \\leqslant x)\n",
    "$$\n",
    "这个函数称为 $X$ 的累积概率分布函数,简称分布函数。为什么要这么设置分布函数呢？原因可以从概率的本质入手，因为分布函数本身就是为了计算随机变量的概率。\n",
    "   - $ 0 \\leqslant F(x) \\leqslant 1$ 。 要记住,分布函数值是特定形式事件“ $X \\leqslant x$ ”的概率,而 概率总在 0 与 1 之间。\n",
    "   - $F(-\\infty)=\\lim _{x \\rightarrow-\\infty} F(x)=0$ ,这是因为事件“ $X \\leqslant-\\infty$ \"是不可能事件。\n",
    "   - $F(+\\infty)=\\lim _{x \\rightarrow+\\infty} F(x)=1$, 这是因为事件“ $X \\leqslant+\\infty$ \"是必然事件之故。 \n",
    "   - $F(x)$ 是非降函数, 即对任意 $x_{1}<x_{2}$, 有 $F\\left(x_{1}\\right) \\leqslant F\\left(x_{2}\\right)$ 。 这是因为事件 “$ X \\leqslant x_{2}$ ”包含事件\" $X \\leqslant x_{1} $\"。\n",
    "\n",
    "现在，我们来看看什么是密度函数（分布律）。我们先假设现在研究的随机变量是连续随机变量，因此随机变量在一个区间内是连续不断的。概率分布函数是计算概率的其中一种途径，这种方式**直接**计算概率，那概率密度函数是计算概率的另一种方式。我们不直接假设随机变量的概率函数是什么，我们使用：某个区间内的概率 = 区间长度 * 长度内的概率密度，就好像一个小面积的质量等于面积内的密度 * 面积。因此，概率的计算变成以下的表示：对任意两个实数 $a$ 与 $b$,其中 $a<b$, 且 $a$ 可为 $-\\infty, b$ 可为 $+\\infty, X$ 在区间 $[a, b]$ 上取值的概率为曲线 $p(x)$ 在该区间上曲边梯形的面积,即\n",
    "$$\n",
    "P(a \\leqslant X \\leqslant b)=\\int_{a}^{b} p(x) d x\n",
    "$$\n",
    "则称密度函数 $p(x)$ 为连续随机变量 $X$ 的概率分布,或简称 $p(x)$ 为 $X$ 的密度 函数,记为 $X \\sim p(x)$, 读作“ $X$ 服从密度 $p(x)$ ”。\n",
    "\n",
    "由于概率密度函数$P(x)$表示的概率的密度，它应该遵守概率的基本特征：\n",
    "$$\n",
    "\\int_{-\\infty}^{\\infty} p(x) d x=1 ,\\;p(x) \\geqslant 0\n",
    "$$\n",
    "\n",
    "那与连续随机变量相对应的离散随机变量，它的“密度函数”怎么说呢？对于离散随机变量来说，我们往往使用分布列去对应连续随机变量密度函数的概念。因为连续随机变量的密度函数使用的是积分来表达的，而离散情况下往往只需要简单的求和就可以了，因此，分布列如下图：\n",
    "$$\n",
    "\\begin{array}{c|ccccc}\n",
    "X & X_{1} & X_{2} & \\cdots & X_{n} & \\cdots \\\\\n",
    "\\hline P & p\\left(x_{1}\\right) & p\\left(x_{2}\\right) & \\cdots & p\\left(x_{n}\\right) & \\cdots\n",
    "\\end{array}\n",
    "$$\n",
    "\n",
    "下面，我们使用python来看看几种最常见的随机变量及其密度函数与分布函数！"
   ],
   "metadata": {}
  },
  {
   "cell_type": "markdown",
   "source": [
    "1. 连续随机变量：                \n",
    "（1.1）均匀分布：              \n",
    "一般地，在有限区间 $[a, b]$ 上为常数,在此区间外为零的密度函 数 $p(x)$ 都称为均匀分布,并记为 $U(a, b)$, 其密度函数为\n",
    "$$\n",
    "p(x)= \\begin{cases}\\frac{1}{b-a}, & a \\leqslant x \\leqslant b \\\\ 0, & \\text { 其它 }\\end{cases}\n",
    "$$\n",
    "\n",
    "均匀分布是最简单的，也是最常见的分布，例如：小明去约会，他下午14:00-18:00都有可能出现，那么出现的时间点就满足均匀分布。"
   ],
   "metadata": {}
  },
  {
   "cell_type": "code",
   "execution_count": 21,
   "source": [
    "import numpy as np \n",
    "import matplotlib.pyplot as plt \n",
    "%matplotlib inline\n",
    "plt.style.use(\"ggplot\")\n",
    "import seaborn as sns\n",
    "\n",
    "x = np.random.uniform(14,18,10000)    ## 生成（14，18）区间内的均匀分布的随机数10000个\n",
    "sns.distplot(x)"
   ],
   "outputs": [
    {
     "output_type": "stream",
     "name": "stderr",
     "text": [
      "/Users/leo/miniforge3/envs/pytorch_env/lib/python3.9/site-packages/seaborn/distributions.py:2557: FutureWarning: `distplot` is a deprecated function and will be removed in a future version. Please adapt your code to use either `displot` (a figure-level function with similar flexibility) or `histplot` (an axes-level function for histograms).\n",
      "  warnings.warn(msg, FutureWarning)\n"
     ]
    },
    {
     "output_type": "execute_result",
     "data": {
      "text/plain": [
       "<AxesSubplot:ylabel='Density'>"
      ]
     },
     "metadata": {},
     "execution_count": 21
    },
    {
     "output_type": "display_data",
     "data": {
      "image/png": "[encoded data removed]",
      "text/plain": [
       "<Figure size 432x288 with 1 Axes>"
      ]
     },
     "metadata": {}
    }
   ],
   "metadata": {}
  },
  {
   "cell_type": "markdown",
   "source": [
    "（1.2）指数分布：\n",
    "$$\n",
    "p(x)=\\left\\{\\begin{aligned}\n",
    "\\lambda e^{-\\lambda x}, & x \\geqslant 0 \\\\\n",
    "0, & x<0\n",
    "\\end{aligned}\\right.\n",
    "$$\n",
    "称为指数分布, 记为 $\\operatorname{Exp}(\\lambda)$ 。其中 $\\lambda$ 是根据实际背景而定的正参数。假如某连续随机变量 $X \\sim \\operatorname{Exp}(\\lambda)$, 则表示 $X$ 仅可能取非负实数。实际中不少产品首次发生故障(需要维修)的时间服从指数分布。譬如,某种热水器首次发生故障的时间 $T$ (单位:小时)服从指数分布 $\\operatorname{Exp}(0.002)$, 即 $T$ 的密度函数为\n",
    "$$\n",
    "p(t)=\\left\\{\\begin{array}{cl}\n",
    "0.002 e^{-0.002 t}, & t \\geqslant 0 \\\\\n",
    "0, & t<0\n",
    "\\end{array}\\right.\n",
    "$$"
   ],
   "metadata": {}
  },
  {
   "cell_type": "code",
   "execution_count": 22,
   "source": [
    "x = np.random.exponential(500,10000)   # 生成满足指数分布的10000个随机点\n",
    "sns.distplot(x)"
   ],
   "outputs": [
    {
     "output_type": "stream",
     "name": "stderr",
     "text": [
      "/Users/leo/miniforge3/envs/pytorch_env/lib/python3.9/site-packages/seaborn/distributions.py:2557: FutureWarning: `distplot` is a deprecated function and will be removed in a future version. Please adapt your code to use either `displot` (a figure-level function with similar flexibility) or `histplot` (an axes-level function for histograms).\n",
      "  warnings.warn(msg, FutureWarning)\n"
     ]
    },
    {
     "output_type": "execute_result",
     "data": {
      "text/plain": [
       "<AxesSubplot:ylabel='Density'>"
      ]
     },
     "metadata": {},
     "execution_count": 22
    },
    {
     "output_type": "display_data",
     "data": {
      "image/png": "[encoded data removed]",
      "text/plain": [
       "<Figure size 432x288 with 1 Axes>"
      ]
     },
     "metadata": {}
    }
   ],
   "metadata": {}
  },
  {
   "cell_type": "markdown",
   "source": [
    "（1.3）正态分布：        \n",
    "密度函数为\n",
    "$$\n",
    "p(x)=\\frac{1}{\\sqrt{2 \\pi} \\sigma} e^{-\\frac{(x-\\mu)^{2}}{2 \\sigma^{2}}}, \\quad-\\infty<x<\\infty\n",
    "$$\n",
    "的分布称为正态分布。它含有两个参数 $\\mu$ 与 $\\sigma:-\\infty<\\mu<\\infty, \\sigma>0$, 常记为 $N\\left(\\mu, \\sigma^{2}\\right)$ 。符号 $X \\sim$ $N\\left(\\mu, \\sigma^{2}\\right)$ 表示随机变量 $X$ 服从参数为 $\\mu$ 与 $\\sigma^{2}$ 的正态分布,此时, $X$ 又简称正态变量, $p(x)$ 图形又简称正态曲线, 它是一条钟形曲线:中间 高、二边低、左右对称。"
   ],
   "metadata": {}
  },
  {
   "cell_type": "code",
   "execution_count": 24,
   "source": [
    "x = np.random.normal(0,1,100000)  # 均值0，方差1的正态分布随机数100000个\n",
    "sns.distplot(x)"
   ],
   "outputs": [
    {
     "output_type": "stream",
     "name": "stderr",
     "text": [
      "/Users/leo/miniforge3/envs/pytorch_env/lib/python3.9/site-packages/seaborn/distributions.py:2557: FutureWarning: `distplot` is a deprecated function and will be removed in a future version. Please adapt your code to use either `displot` (a figure-level function with similar flexibility) or `histplot` (an axes-level function for histograms).\n",
      "  warnings.warn(msg, FutureWarning)\n"
     ]
    },
    {
     "output_type": "execute_result",
     "data": {
      "text/plain": [
       "<AxesSubplot:ylabel='Density'>"
      ]
     },
     "metadata": {},
     "execution_count": 24
    },
    {
     "output_type": "display_data",
     "data": {
      "image/png": "[encoded data removed]",
      "text/plain": [
       "<Figure size 432x288 with 1 Axes>"
      ]
     },
     "metadata": {}
    }
   ],
   "metadata": {}
  },
  {
   "cell_type": "markdown",
   "source": [
    "2. 离散型随机变量：         \n",
    "（2.1）0-1分布：          \n",
    "$n=1$ 时的二项分布 $b(1, p)$ 又称为二点分布,或称 $0-1$ 分布,其分布为\n",
    "$$\n",
    "P(X=x)=p^{x}(1-p)^{1-x}, \\quad x=0,1\n",
    "$$\n",
    "其中 $X$ 表示在一次贝努里试验里的成功次数。               \n",
    "（2.2）二项分布：          \n",
    "用 $B_{n, k}$ 表示事件“ $n$ 重贝努里试验中成功出现 $k$ 次”。如今我们用随机变量来表示这个事件。设 $X$ 为 $n$ 重贝努里试验中成功的次数,则有 $B_{n, k}=$ $“ X=k ”$ 。其中 $X$ 可能取的值为 $0,1, \\cdots, n$, 它取这些值的概率为\n",
    "$$\n",
    "P(X=x)=\\left(\\begin{array}{l}\n",
    "n \\\\\n",
    "x\n",
    "\\end{array}\\right) p^{x}(1-p)^{n-x}, \\quad x=0,1, \\cdots, n\n",
    "$$ \n",
    "（2.3）泊松分布：         \n",
    "泊松分布的概率分布为\n",
    "$$\n",
    "P(X=x)=\\frac{\\lambda^{x}}{x !} e^{-\\lambda}\n",
    "$$\n",
    "其中： $\\lambda>0$ 是常数，是区间事件发生率的均值。"
   ],
   "metadata": {}
  },
  {
   "cell_type": "markdown",
   "source": [
    "## 2.3.3 随机变量的数字特征"
   ],
   "metadata": {}
  },
  {
   "cell_type": "markdown",
   "source": [
    "其实，在刚刚讨论的随机变量以及随机变量的密度函数、分布列等等概念，已经可以把随机事件描述的非常完整了。为什么需要随机变量的数字特征呢？因为在某些场合，我们不需要知道这个随机变量的方方面面，可能仅仅只需要知道某个侧面的信息。例如：我们知道明天的股票价格是一个随机变量，因为我们不知道明天股票的价格是多少。但是我们需要把明天的股票价格的每一个价格的概率都计算出来形成一个分布吗？显然不需要，我们可能更关心的是明天的股价在一般水平上比今天的股价是涨还是跌，如果涨了我们选择买入，跌了选择卖出。因此，我们需要对随机变量的不同侧面进行描述，最好是能用一个数字去表述清楚而不是像分布一样是一个函数表达式。\n",
    "\n",
    "数学期望：          \n",
    "“期望”在日常生活中常指有根据的希望,或发生可能性较大的希望。譬如，一位人寿保险经纪人告诉我们:“ 40 岁的妇女可期望再活 38 年。” 这不是说 40 岁的美国妇女都活到 78 岁,然后第二天去世,而是指 40 岁的妇女中,有些可再活 20 年,有些再活 50 年,平均可再活 38 年,即再活 38 年 左右(如再活 $38 \\pm 10$ 年)的可能性大一些; 又如,“某种轮胎可期望行驶 6 万公里”,也是指此种轮胎平均可行驶 6 万公里,就个别轮胎来说,有的行驶可超过 6 万公里,有的行驶可能不到 6 万公里就报废,而行驶 6 万公里左右的可能性大一些。因此，下面谈及的“数学期望”是指用概率分布算得的一种加权平均。\n",
    "\n",
    "（1.1）设**离散随机变量** $X$ 的分布列为\n",
    "$$\n",
    "P=\\left(X=x_{i}\\right)=p\\left(x_{i}\\right), \\quad i=1,2, \\cdots, n\n",
    "$$\n",
    "则：\n",
    "$$\n",
    "E(X)=\\sum_{i=1}^{n} x_{i} p\\left(x_{i}\\right)\n",
    "$$\n",
    "\n",
    "（1.2）设**连续随机变量** $X$ 有密度函数 $p(x)$, 如果积分\n",
    "$$\n",
    "\\int_{-\\infty}^{\\infty}|x| p(x) d x\n",
    "$$\n",
    "有限,则称\n",
    "$$\n",
    "E(X)=\\int_{-\\infty}^{\\infty} x p(x) d x\n",
    "$$\n",
    "为 $X$ 的数学期望,简称期望,期望值或均值。如果积分无限,则说 $X$ 的数学期望不存在。\n",
    "\n",
    "下面，我们给出常见的分布的期望计算方法：\n",
    "   - 0-1分布：$E(X)=p$\n",
    "   - 二项分布：$E(x) = np$\n",
    "   - 泊松分布：$E(x) = \\lambda$\n",
    "   - 均匀分布：$E(x) = \\frac{a+b}{2}$\n",
    "   - 指数分布：$E(x) = \\frac{1}{\\lambda}$\n",
    "   - 正态分布：$E(x) = \\mu$\n",
    "\n",
    "方差：              \n",
    "方差在金融中扮演着重要的作用，就拿刚刚的明天的股票价格这个随机变量来说，如果明天的股价波动较大，往往代表着明天的股价不稳定程度高，风险大，即使明天的股价期望比今天要高，也不会选择买入股票，因为很有可能股价会比今天低而导致损失。因此，方差是衡量随机变量波动程度的数学量，具体的：数学期望 $E(X)$ 是分布的位置特征数,它总位于分布的中心,随机变量 $X$ 的取值总在其周围波动。方差是度量此种波动大小的最重要的特征数。\n",
    "\n",
    "设随机变量 $X$ 的 $E X^{2}$ 存在,则称偏差平方的数学期望 $E[X$ $-E(X)]^{2}$ 为随机变量 $X$ (或相应分布)的方差,记为\n",
    "$$\n",
    "\\operatorname{Var}(X)=E[X-E(X)]^{2}\n",
    "$$\n",
    "方差的正平方根 $[\\operatorname{Var}(X)]^{1 / 2}$ 称为随机变量 $X($ 或相应分布 $)$ 的标准差,记为 $\\sigma_{X}$ 或 $\\sigma(X)$ 。\n"
   ],
   "metadata": {}
  },
  {
   "cell_type": "code",
   "execution_count": 25,
   "source": [
    "# 使用numpy求随机变量的数学期望与方差：\n",
    "x = np.random.normal(0,1,10000)\n",
    "exp_x = np.mean(x)    # 期望/均值\n",
    "sd_x = np.std(x)   # 方差\n",
    "print(\"期望：\",exp_x)\n",
    "print(\"方差：\",sd_x)"
   ],
   "outputs": [
    {
     "output_type": "stream",
     "name": "stdout",
     "text": [
      "期望： 0.00763899124784212\n",
      "方差： 1.0005672277805493\n"
     ]
    }
   ],
   "metadata": {}
  },
  {
   "cell_type": "markdown",
   "source": [
    "## 2.3.4 多维随机变量及其分布"
   ],
   "metadata": {}
  },
  {
   "cell_type": "markdown",
   "source": [
    "在之前关于随机变量的讨论中，我们仅仅只研究了单一随机变量及其分布情况，但是现实中的问题往往影响的因素有很多而且是相互影响的。例如：人的身高与什么因素相关？可能与每天吃钙物质的量、影响身高基因的数量、基因的表达情况等等。单一影响因素并不能满足日常问题的研究，因此需要引入多维随机变量的概念。通俗的说，多维随机变量就是多个随机变量的结合，从一个推广到多个，在线性代数中我们已经干过这件事，那就是使用向量去表达！具体地说：\n",
    "\n",
    "若随机变量 $X_{1}(\\omega), X_{2}(\\omega), \\cdots, X_{n}(\\omega)$ 定义在同一个基本空间 $\\Omega=\\{\\omega\\}$ 上, 则称\n",
    "$$\n",
    "\\boldsymbol{X}(\\omega)=\\left(X_{1}(\\omega), X_{2}(\\omega), \\cdots, X_{n}(\\omega)\\right)\n",
    "$$ \n",
    "是一个多维随机变量，也称为n维随机向量。\n",
    "\n",
    "一维随机变量的分布函数是一个关于x的函数，而n维随机变量的分布函数就是关于n个自变量的函数，具体地（只需要了解）：\n",
    "\n",
    "设 $X=\\left(X_{1}, X_{2}, \\cdots, X_{n}\\right)$ 是 $n$ 维随机变量, 对任意 $n$ 个实数 $x_{1}, x_{2}, \\cdots, x_{n}$ 所组成的 $n$ 个事件 $X_{1} \\leqslant x_{1},X_{2} \\leqslant x_{2} , \\cdots, X_{n} \\leqslant x_{n} $ 同时发生 的概率\n",
    "$$\n",
    "F\\left(x_{1}, x_{2}, \\cdots, x_{n}\\right)=P\\left(X_{1} \\leqslant x_{1}, X_{2} \\leqslant x_{2}, \\cdots, X_{n} \\leqslant x_{n}\\right)\n",
    "$$\n",
    "称为 $n$ 维随机变量 $\\boldsymbol{X}$ 的联合分布函数。\n",
    "\n",
    "一维随机变量的密度函数是通过分布函数来确定的，也就是分布函数是密度函数的积分，那推广至多维随机变量也是如此：\n",
    "\n",
    "设二维随机变量 $(X, Y)$ 的分布函数为 $F(x, y)$ 。假如各分量 $X$ 和 $Y$ 都是一维连续随机变量,并存在定义在平面上的非负函数 $p(x, y)$,使得\n",
    "$$\n",
    "F(x, y)=\\int_{-\\infty}^{x} \\int_{-\\infty}^{y} p(x, y) d x d y\n",
    "$$\n",
    "则称 $(X, Y)$ 为二维连续随机变量, $p(x, y)$ 称为 $(X, Y)$ 的联合概率密度函数, 或简称联合密度。"
   ],
   "metadata": {}
  },
  {
   "cell_type": "markdown",
   "source": [
    "## 2.3.5 大数定律与中心极限定理"
   ],
   "metadata": {}
  },
  {
   "cell_type": "markdown",
   "source": [],
   "metadata": {}
  }
 ],
 "metadata": {
  "kernelspec": {
   "name": "python3",
   "display_name": "Python 3.9.2 64-bit ('pytorch_env': conda)"
  },
  "language_info": {
   "codemirror_mode": {
    "name": "ipython",
    "version": 3
   },
   "file_extension": ".py",
   "mimetype": "text/x-python",
   "name": "python",
   "nbconvert_exporter": "python",
   "pygments_lexer": "ipython3",
   "version": "3.9.2"
  },
  "interpreter": {
   "hash": "6508d82939f60bd3d139057e53c879e6fca4acc3ce8618a7289378caa90992e5"
  }
 },
 "nbformat": 4,
 "nbformat_minor": 5
}