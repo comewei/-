{
 "cells": [
  {
   "cell_type": "code",
   "execution_count": 3,
   "id": "61830343",
   "metadata": {},
   "outputs": [
    {
     "data": {
      "text/plain": [
       "'hello-my-girl/python-task-01'"
      ]
     },
     "execution_count": 3,
     "metadata": {},
     "output_type": "execute_result"
    }
   ],
   "source": [
    "import os\n",
    "os.path.join('hello-my-girl','python-task-01')\n"
   ]
  },
  {
   "cell_type": "code",
   "execution_count": 4,
   "id": "c6f14122",
   "metadata": {},
   "outputs": [
    {
     "data": {
      "text/plain": [
       "'/root/Datawhale/Python_office_automation'"
      ]
     },
     "execution_count": 4,
     "metadata": {},
     "output_type": "execute_result"
    }
   ],
   "source": [
    "# 读取当前目录所在位置\n",
    "os.getcwd()"
   ]
  },
  {
   "cell_type": "code",
   "execution_count": null,
   "id": "e8af8927",
   "metadata": {},
   "outputs": [],
   "source": [
    "# 改变当前目录地址\n",
    "os.chdir('../root/Deep-learning/')\n",
    "os.getcwd()  # 等价于 os.getcwd()"
   ]
  },
  {
   "cell_type": "markdown",
   "id": "a7b82e47",
   "metadata": {},
   "source": [
    "绝对路径  &&  相对路径"
   ]
  },
  {
   "cell_type": "code",
   "execution_count": 13,
   "id": "94f744f6",
   "metadata": {},
   "outputs": [
    {
     "data": {
      "text/plain": [
       "True"
      ]
     },
     "execution_count": 13,
     "metadata": {},
     "output_type": "execute_result"
    }
   ],
   "source": [
    "os.path.abspath('.')  # 把当前路径转换为绝对路径\n",
    "os.path.isabs('.')    # 该目录路径是否为绝对路径\n",
    "os.path.isabs(os.path.abspath('.'))"
   ]
  },
  {
   "cell_type": "markdown",
   "id": "52a76545",
   "metadata": {},
   "source": [
    "路径操作"
   ]
  },
  {
   "cell_type": "code",
   "execution_count": 17,
   "id": "3b5440fd",
   "metadata": {},
   "outputs": [
    {
     "data": {
      "text/plain": [
       "'Task-01.ipynb'"
      ]
     },
     "execution_count": 17,
     "metadata": {},
     "output_type": "execute_result"
    }
   ],
   "source": [
    "#os.path.relpath(path,start):返回从start路径到path的相对路径的字符串。\n",
    "#如果没提供start,就使用当前工作目录作为开始路径。 \n",
    "#os.path.dirname(path): 返回当前路径的目录名称。 \n",
    "#os.path.basename(path)：返回当前路径的文件名称\n",
    "# start ——> path\n",
    "os.path.relpath('/root', '/root/Deep-learning/limu-deeplearning/') #'../..'\n",
    "\n",
    "path = '/root/Datawhale/Python_office_automation/Task-01.ipynb'\n",
    "os.path.dirname(path) # '/root/Datawhale/Python_office_automation'\n",
    "\n",
    "os.path.basename(path) # 'Task-01.ipynb'"
   ]
  },
  {
   "cell_type": "code",
   "execution_count": 22,
   "id": "58361fad",
   "metadata": {},
   "outputs": [
    {
     "data": {
      "text/plain": [
       "'Task-01.ipynb'"
      ]
     },
     "execution_count": 22,
     "metadata": {},
     "output_type": "execute_result"
    }
   ],
   "source": [
    "#如果同时需要一个路径的目录名称和基本名称，可以调用os.path.split()，获得者两个字符串的元组。\n",
    "caFilePath = '/root/Datawhale/Python_office_automation/Task-01.ipynb'\n",
    "os.path.split(caFilePath) # ('/root/Datawhale/Python_office_automation', 'Task-01.ipynb')\n",
    "\n",
    "# 当然可以使用上面的os.path.dirname()   os.path.basename()\n",
    "os.path.dirname(caFilePath) #'/root/Datawhale/Python_office_automation'\n",
    "os.path.basename(caFilePath) # 'Task-01.ipynb'"
   ]
  },
  {
   "cell_type": "code",
   "execution_count": 23,
   "id": "8667ece1",
   "metadata": {},
   "outputs": [
    {
     "data": {
      "text/plain": [
       "['', 'root', 'Datawhale', 'Python_office_automation', 'Task-01.ipynb']"
      ]
     },
     "execution_count": 23,
     "metadata": {},
     "output_type": "execute_result"
    }
   ],
   "source": [
    "# 上述只是将文件夹区分开来了，但是如果想要知道每个文件夹的字符串的列表，使用os.path.split()\n",
    "# 无法得到，但是可以通过os.path.sep得到\n",
    "caFilePath.split(os.path.sep) # ['', 'root', 'Datawhale', 'Python_office_automation', 'Task-01.ipynb']\n"
   ]
  },
  {
   "cell_type": "markdown",
   "id": "4761b31a",
   "metadata": {},
   "source": [
    "路径有效性检查"
   ]
  },
  {
   "cell_type": "code",
   "execution_count": 33,
   "id": "d2b8c171",
   "metadata": {},
   "outputs": [
    {
     "data": {
      "text/plain": [
       "False"
      ]
     },
     "execution_count": 33,
     "metadata": {},
     "output_type": "execute_result"
    }
   ],
   "source": [
    "#os.path.exists(path)：如果path参数所指的文件或文件夹存在，则返回True,否则返回False。\n",
    "os.path.exists('/root/')\n",
    "os.path.exists('../root')\n",
    "#os.path.isfile(path)：如果path参数存在，并且是一个文件，则返回True,否则返回False。\n",
    "os.path.isfile('/root/Datawhale/Python_office_automation/Task-01.ipynb')\n",
    "os.path.isfile('/root/Datawhale/Python_office_automation')\n",
    "#os.path.isdir(path)：如果path参数存在，并且是一个文件夹，则返回True,否则返回False。\n",
    "os.path.isdir('/root/Datawhale/Python_office_automation')\n",
    "os.path.isdir('/root/Datawhale/Python_office_automation/Task-01.ipynb')"
   ]
  },
  {
   "cell_type": "markdown",
   "id": "9db2be61",
   "metadata": {},
   "source": [
    "# 文件及文件夹操作"
   ]
  },
  {
   "cell_type": "markdown",
   "id": "c440e7e5",
   "metadata": {},
   "source": [
    "用os.makedirs()创建新文件夹,查看目录，已创建，若文件夹已存在，不会覆盖，会报错."
   ]
  },
  {
   "cell_type": "code",
   "execution_count": 36,
   "id": "80c9c623",
   "metadata": {},
   "outputs": [
    {
     "data": {
      "text/plain": [
       "True"
      ]
     },
     "execution_count": 36,
     "metadata": {},
     "output_type": "execute_result"
    }
   ],
   "source": [
    "import os\n",
    "os.makedirs('/root/Deep-learning/LeNet')\n",
    "os.path.isdir('/root/Deep-learning/LeNet')"
   ]
  },
  {
   "cell_type": "code",
   "execution_count": 43,
   "id": "ab578d6b",
   "metadata": {},
   "outputs": [
    {
     "data": {
      "text/plain": [
       "['.ipynb_checkpoints', 'Task-01.ipynb']"
      ]
     },
     "execution_count": 43,
     "metadata": {},
     "output_type": "execute_result"
    }
   ],
   "source": [
    "\"\"\"\n",
    "os.path模块提供了一些函数，用于查看文件的字节数以及给定文件夹中的文件和子文件夹。 os.path.getsize(path)：返回path参数中文件的字节数。\n",
    "os.listdir(path):返回文件名字符串的列表，包含path参数中的每个文件。\n",
    "\"\"\"\n",
    "os.path.getsize('/root/Datawhale/Python_office_automation/Task-01.ipynb')\n",
    "# ls\n",
    "os.listdir('/root/Datawhale/Python_office_automation')"
   ]
  },
  {
   "cell_type": "code",
   "execution_count": 45,
   "id": "bf2191c8",
   "metadata": {},
   "outputs": [
    {
     "name": "stdout",
     "output_type": "stream",
     "text": [
      "77768\n"
     ]
    }
   ],
   "source": [
    "#如果想知道目录下所有文件的总字节数，可以同时使用os.path.getsize()和os.listdir()\n",
    "total_size = 0\n",
    "for file in os.listdir('/root/Deep-learning/limu-deeplearning/limu-MLP/'):\n",
    "    total_size += os.path.getsize(os.path.join('/root/Deep-learning/limu-deeplearning/limu-MLP/', file))\n",
    "print(total_size)"
   ]
  },
  {
   "cell_type": "markdown",
   "id": "6fb03d78",
   "metadata": {},
   "source": [
    "# 文件读写过程"
   ]
  },
  {
   "cell_type": "code",
   "execution_count": 56,
   "id": "bafbd49d",
   "metadata": {},
   "outputs": [
    {
     "name": "stdout",
     "output_type": "stream",
     "text": [
      "<_io.TextIOWrapper name='./hello.txt' mode='r' encoding='ANSI_X3.4-1968'>\n"
     ]
    }
   ],
   "source": [
    "\"\"\"\n",
    "1. 调用 open()函数，返回一个File对象\n",
    "2. 抵用File对象的 read()  write() 方法\n",
    "3. 调用File对象的 close() 方法\n",
    "\"\"\"\n",
    "#!touch hello.txt\n",
    "#os.listdir('.')\n",
    "helloFile = open('./hello.txt')\n",
    "print(helloFile)# <_io.TextIOWrapper name='./hello.txt' mode='r' encoding='ANSI_X3.4-1968'>"
   ]
  },
  {
   "cell_type": "code",
   "execution_count": 60,
   "id": "1b20549a",
   "metadata": {},
   "outputs": [
    {
     "data": {
      "text/plain": [
       "[]"
      ]
     },
     "execution_count": 60,
     "metadata": {},
     "output_type": "execute_result"
    }
   ],
   "source": [
    "\"\"\"\n",
    "有了File对象，我们就可以开始从它读取内容。\n",
    "\n",
    "read():读取文件内容。\n",
    "\n",
    "readlines():按行读取文件中的内容，取得一个字符串列表，列表中每个字符串是文本中的一行且以\\n结束。\n",
    "\"\"\"\n",
    "helloContent = helloFile.read()\n",
    "helloContent  #  ''\n",
    "\n",
    "# 得到一个字符串列表\n",
    "sonnetFile = open('./hello.txt')\n",
    "sonnetFile.readlines() # []"
   ]
  },
  {
   "cell_type": "code",
   "execution_count": 65,
   "id": "05feae62",
   "metadata": {},
   "outputs": [
    {
     "name": "stdout",
     "output_type": "stream",
     "text": [
      "Hello World! \r\n"
     ]
    }
   ],
   "source": [
    "\"\"\"\n",
    "需要用“写模式”‘w’和“添加模式”'a'打开一个文件，而不能用读模式打开文件。 “写模式”将覆写原有的文件，从头开始。“添加模式”将在已有文件的末尾添加文本。\n",
    "\"\"\"\n",
    "#!touch bacon.txt\n",
    "baconFile = open('./bacon.txt', 'w')\n",
    "baconFile.write('Hello World! \\n')\n",
    "#!cat bacon.txt\n",
    "baconFile.close() ##注意，关闭后，才能完成写入，从txt文件中看到写入的内容"
   ]
  },
  {
   "cell_type": "code",
   "execution_count": 69,
   "id": "625e1554",
   "metadata": {},
   "outputs": [
    {
     "name": "stdout",
     "output_type": "stream",
     "text": [
      "Hello World! \r\n",
      "Bacon is not a vegetableBacon is not a vegetableBacon is not a vegetableBacon is not a vegetable\r\n"
     ]
    }
   ],
   "source": [
    "baconFile = open('bacon.txt', 'a')\n",
    "baconFile.write('Bacon is not a vegetable\\n')\n",
    "baconFile.close()\n",
    "!cat bacon.txt"
   ]
  },
  {
   "cell_type": "code",
   "execution_count": 74,
   "id": "d25c1b39",
   "metadata": {},
   "outputs": [
    {
     "name": "stdout",
     "output_type": "stream",
     "text": [
      "Hello World! \n",
      "Bacon is not a vegetableBacon is not a vegetableBacon is not a vegetableBacon is not a vegetable\n",
      "\n"
     ]
    }
   ],
   "source": [
    "baconFile = open('./bacon.txt')\n",
    "content = baconFile.read()\n",
    "baconFile.close()\n",
    "print(content)"
   ]
  },
  {
   "cell_type": "code",
   "execution_count": 77,
   "id": "8b0cad7f",
   "metadata": {},
   "outputs": [
    {
     "data": {
      "text/plain": [
       "['mydata.dir',\n",
       " 'mydata.bak',\n",
       " 'hello.txt',\n",
       " 'bacon.txt',\n",
       " '.ipynb_checkpoints',\n",
       " 'mydata.dat',\n",
       " 'Task-01.ipynb']"
      ]
     },
     "execution_count": 77,
     "metadata": {},
     "output_type": "execute_result"
    }
   ],
   "source": [
    "os.listdir('.')"
   ]
  },
  {
   "cell_type": "code",
   "execution_count": 76,
   "id": "0a090161",
   "metadata": {},
   "outputs": [],
   "source": [
    "# 保存变量\n",
    "# 1. shelve 模块\n",
    "\"\"\"\n",
    "用shelve模块，可以将Python中的变量保存到二进制的shelf文件中。\n",
    "这样，程序就可以从硬盘中恢复变量的数据。\n",
    "\"\"\"\n",
    "import shelve\n",
    "shelfFile = shelve.open('mydata')\n",
    "cats = ['zonphie', 'Pllka', 'Simon']\n",
    "shelfFile['cats'] = cats\n",
    "shelfFile.close()"
   ]
  },
  {
   "cell_type": "code",
   "execution_count": 78,
   "id": "633306a7",
   "metadata": {},
   "outputs": [
    {
     "data": {
      "text/plain": [
       "shelve.DbfilenameShelf"
      ]
     },
     "execution_count": 78,
     "metadata": {},
     "output_type": "execute_result"
    }
   ],
   "source": [
    "# 重新打开这些文件，取出数据。注意：shelf值不必用读模式或写模式打开，因为打开后，既能读又能写。\n",
    "shelfFile = shelve.open('mydata')\n",
    "type(shelfFile) # shelve.DbfilenameShelf"
   ]
  },
  {
   "cell_type": "code",
   "execution_count": 82,
   "id": "3331dde0",
   "metadata": {},
   "outputs": [],
   "source": [
    "shelfFile['cats']\n",
    "shelfFile.close()"
   ]
  },
  {
   "cell_type": "code",
   "execution_count": 85,
   "id": "06075e91",
   "metadata": {},
   "outputs": [],
   "source": [
    "# 就像字典一样，shelf值有keys()和values()方法，\n",
    "#返回shelf中键和值的类似列表的值。但是这些方法返回类似列表的值，却不是真正的列表，所以应该将它们传递给list()函数，取得列表的形式。\n",
    "shelfFile = shelve.open('mydata')\n",
    "list(shelfFile.keys())#['cats']\n",
    "list(shelfFile.values())# [['zonphie', 'Pllka', 'Simon']]\n",
    "shelfFile.close()"
   ]
  },
  {
   "cell_type": "code",
   "execution_count": 87,
   "id": "bf45e3eb",
   "metadata": {},
   "outputs": [
    {
     "data": {
      "text/plain": [
       "\"[{'desc': 'chubby', 'name': 'Zophie'}, {'desc': 'fluffy', 'name': 'Pooka'}]\""
      ]
     },
     "execution_count": 87,
     "metadata": {},
     "output_type": "execute_result"
    }
   ],
   "source": [
    "# 使用 pprint.pformat() 函数保存变量\n",
    "# pprint.pformat()函数返回要打印的内容的文本字符串，这个字符串既易于阅读，也是语法上正确的Python代码。\n",
    "import pprint\n",
    "cats = [{'name':'Zophie','desc':'chubby'},{'name':'Pooka','desc':'fluffy'}]\n",
    "pprint.pformat(cats)"
   ]
  },
  {
   "cell_type": "code",
   "execution_count": 88,
   "id": "d2e6dabe",
   "metadata": {},
   "outputs": [
    {
     "data": {
      "text/plain": [
       "83"
      ]
     },
     "execution_count": 88,
     "metadata": {},
     "output_type": "execute_result"
    }
   ],
   "source": [
    "fileObj = open('myCats.py', 'w')\n",
    "fileObj.write('cats = ' +pprint.pformat(cats) + '\\n')"
   ]
  },
  {
   "cell_type": "code",
   "execution_count": 96,
   "id": "388941cd",
   "metadata": {},
   "outputs": [],
   "source": [
    "fileObj.close()"
   ]
  },
  {
   "cell_type": "code",
   "execution_count": 100,
   "id": "beda0ac4",
   "metadata": {},
   "outputs": [
    {
     "data": {
      "text/plain": [
       "'chubby'"
      ]
     },
     "execution_count": 100,
     "metadata": {},
     "output_type": "execute_result"
    }
   ],
   "source": [
    "#import语句导入的模块本身就是Python脚本。如果来自pprint.pformat()的字符串保存为一个.py文件，该文件就是一个可以导入的模块\n",
    "import myCats\n",
    "myCats.cats[0]['desc']"
   ]
  },
  {
   "cell_type": "code",
   "execution_count": 101,
   "id": "275dfcbd",
   "metadata": {},
   "outputs": [
    {
     "name": "stdout",
     "output_type": "stream",
     "text": [
      "Hello World! \r\n",
      "Bacon is not a vegetableBacon is not a vegetableBacon is not a vegetableBacon is not a vegetable\r\n"
     ]
    }
   ],
   "source": [
    "#练习\n",
    "!cat bacon.txt"
   ]
  },
  {
   "cell_type": "code",
   "execution_count": 105,
   "id": "429fe1cc",
   "metadata": {},
   "outputs": [],
   "source": [
    "\"\"\"\n",
    "需要用“写模式”‘w’和“添加模式”'a'打开一个文件，而不能用读模式打开文件。 “写模式”将覆写原有的文件，从头开始。“添加模式”将在已有文件的末尾添加文本。\n",
    "\"\"\"\n",
    "\n",
    "baconFile = open('./bacon.txt', 'w')\n",
    "baconFile.write('Hello World! \\n  hello big-girl')\n",
    "#!cat bacon.txt\n",
    "baconFile.close() ##注意，关闭后，才能完成写入，从txt文件中看到写入的内容"
   ]
  },
  {
   "cell_type": "code",
   "execution_count": 111,
   "id": "16428dba",
   "metadata": {},
   "outputs": [
    {
     "name": "stdout",
     "output_type": "stream",
     "text": [
      "Hello World! \n",
      "  hello big-girl\n"
     ]
    }
   ],
   "source": [
    "helloFile = open('./bacon.txt')\n",
    "helloContent = helloFile.read()\n",
    "print(helloContent)"
   ]
  },
  {
   "cell_type": "code",
   "execution_count": 110,
   "id": "0ddb89db",
   "metadata": {},
   "outputs": [
    {
     "name": "stdout",
     "output_type": "stream",
     "text": [
      "['Hello World! \\n', '  hello big-girl']\n"
     ]
    }
   ],
   "source": [
    "helloContent = helloFile.readlines()\n",
    "print(helloContent)"
   ]
  },
  {
   "cell_type": "markdown",
   "id": "b81010d0",
   "metadata": {},
   "source": [
    "## 组织文件"
   ]
  },
  {
   "cell_type": "code",
   "execution_count": 115,
   "id": "ccf05775",
   "metadata": {},
   "outputs": [
    {
     "data": {
      "text/plain": [
       "'/root/Datawhale/shuffle.txt'"
      ]
     },
     "execution_count": 115,
     "metadata": {},
     "output_type": "execute_result"
    }
   ],
   "source": [
    "# shutil(或称为shell工具)模块中包含一些函数，可以在Python程序中复制、移动、改名和删除文件\n",
    "\n",
    "import shutil\n",
    "# 复制文件夹 shutil.copy(source, destination)：将路径source处的文件复制到路径 destination处的文件夹（source 和 destination 都是字符串），并返回新复制文件绝对路径字符串。\n",
    "\n",
    "shutil.copy('/root/Datawhale/Python_office_automation/hello.txt', '/root/Datawhale/shuffle')\n",
    "shutil.copy('/root/Datawhale/Python_office_automation/bacon.txt', '/root/Datawhale/shuffle.txt')"
   ]
  },
  {
   "cell_type": "code",
   "execution_count": 113,
   "id": "24790458",
   "metadata": {},
   "outputs": [
    {
     "data": {
      "text/plain": [
       "'/root/Datawhale/Python_office_automation'"
      ]
     },
     "execution_count": 113,
     "metadata": {},
     "output_type": "execute_result"
    }
   ],
   "source": [
    "os.getcwd()"
   ]
  },
  {
   "cell_type": "code",
   "execution_count": 116,
   "id": "b50cab0a",
   "metadata": {},
   "outputs": [
    {
     "data": {
      "text/plain": [
       "'/root/Datawhale/Shuffle-Tree'"
      ]
     },
     "execution_count": 116,
     "metadata": {},
     "output_type": "execute_result"
    }
   ],
   "source": [
    "# shutil.copytree(source, destination) :将路径source处的文件夹，包括其包含的文件夹和文件，复制到路径destination处的文件夹,并返回新复制文件夹绝对路径字符串。\n",
    "import shutil\n",
    "shutil.copytree('/root/Datawhale/Python_office_automation/', '/root/Datawhale/Shuffle-Tree')"
   ]
  },
  {
   "cell_type": "code",
   "execution_count": 117,
   "id": "292e7ae9",
   "metadata": {},
   "outputs": [
    {
     "data": {
      "text/plain": [
       "'/root/Datawhale/Python_office_automation/Shuffle-Tree'"
      ]
     },
     "execution_count": 117,
     "metadata": {},
     "output_type": "execute_result"
    }
   ],
   "source": [
    "# 文件和文件夹的移动和改名\n",
    "# shutil.move(source, destination)：将路径 source 处的文件/文件夹移动到路径destination，并返回新位置的绝对路径的字符串。\n",
    "import shutil\n",
    "shutil.move('/root/Datawhale/Shuffle-Tree/', '/root/Datawhale/Python_office_automation/')"
   ]
  },
  {
   "cell_type": "code",
   "execution_count": 118,
   "id": "42eab380",
   "metadata": {},
   "outputs": [
    {
     "data": {
      "text/plain": [
       "'/root/Datawhale/Python_office_automation/Shuffle-Tree'"
      ]
     },
     "execution_count": 118,
     "metadata": {},
     "output_type": "execute_result"
    }
   ],
   "source": [
    "# 永久删除 文件 文件夹\n",
    "#os.unlink(path): 删除path处的文件。\n",
    "\n",
    "#os.rmdir(path): 删除path处的文件夹。该文件夹必须为空，其中没有任何文件和文件夹。\n",
    "\n",
    "#shutil.rmtree(path):删除 path 处的文件夹，它包含的所有文件和文件夹都会被删除。\n",
    "\n",
    "# 建议先指定操作的文件夹\n",
    "import os\n",
    "os.chdir('/root/Datawhale/Python_office_automation/Shuffle-Tree/')\n",
    "os.getcwd()"
   ]
  },
  {
   "cell_type": "code",
   "execution_count": 133,
   "id": "9763bddb",
   "metadata": {},
   "outputs": [
    {
     "name": "stdout",
     "output_type": "stream",
     "text": [
      "sh: 0: getcwd() failed: No such file or directory\r\n"
     ]
    },
    {
     "data": {
      "text/plain": [
       "'import os\\nfor filename in os.listdir():\\n    os.unlink(filename)\\n'"
      ]
     },
     "execution_count": 133,
     "metadata": {},
     "output_type": "execute_result"
    }
   ],
   "source": [
    "!ls\n",
    "\"\"\"import os\n",
    "for filename in os.listdir():\n",
    "    os.unlink(filename)\n",
    "\"\"\""
   ]
  },
  {
   "cell_type": "code",
   "execution_count": 134,
   "id": "1fc50aaa",
   "metadata": {},
   "outputs": [
    {
     "name": "stderr",
     "output_type": "stream",
     "text": [
      "ERROR:root:Internal Python error in the inspect module.\n",
      "Below is the traceback from this internal error.\n",
      "\n"
     ]
    },
    {
     "name": "stdout",
     "output_type": "stream",
     "text": [
      "Traceback (most recent call last):\n",
      "  File \"/root/anaconda3/envs/tensorflow-py3.6/lib/python3.6/site-packages/IPython/core/interactiveshell.py\", line 3267, in run_code\n",
      "    exec(code_obj, self.user_global_ns, self.user_ns)\n",
      "  File \"<ipython-input-134-fc4c798154c9>\", line 1, in <module>\n",
      "    os.rmdir('/root/Datawhale/Python_office_automation/Shuffle-Tree')\n",
      "FileNotFoundError: [Errno 2] No such file or directory: '/root/Datawhale/Python_office_automation/Shuffle-Tree'\n",
      "\n",
      "During handling of the above exception, another exception occurred:\n",
      "\n",
      "Traceback (most recent call last):\n",
      "  File \"/root/anaconda3/envs/tensorflow-py3.6/lib/python3.6/site-packages/IPython/core/interactiveshell.py\", line 2018, in showtraceback\n",
      "    stb = value._render_traceback_()\n",
      "AttributeError: 'FileNotFoundError' object has no attribute '_render_traceback_'\n",
      "\n",
      "During handling of the above exception, another exception occurred:\n",
      "\n",
      "Traceback (most recent call last):\n",
      "  File \"/root/anaconda3/envs/tensorflow-py3.6/lib/python3.6/site-packages/IPython/core/ultratb.py\", line 1095, in get_records\n",
      "    return _fixed_getinnerframes(etb, number_of_lines_of_context, tb_offset)\n",
      "  File \"/root/anaconda3/envs/tensorflow-py3.6/lib/python3.6/site-packages/IPython/core/ultratb.py\", line 313, in wrapped\n",
      "    return f(*args, **kwargs)\n",
      "  File \"/root/anaconda3/envs/tensorflow-py3.6/lib/python3.6/site-packages/IPython/core/ultratb.py\", line 347, in _fixed_getinnerframes\n",
      "    records = fix_frame_records_filenames(inspect.getinnerframes(etb, context))\n",
      "  File \"/root/anaconda3/envs/tensorflow-py3.6/lib/python3.6/inspect.py\", line 1490, in getinnerframes\n",
      "    frameinfo = (tb.tb_frame,) + getframeinfo(tb, context)\n",
      "  File \"/root/anaconda3/envs/tensorflow-py3.6/lib/python3.6/inspect.py\", line 1448, in getframeinfo\n",
      "    filename = getsourcefile(frame) or getfile(frame)\n",
      "  File \"/root/anaconda3/envs/tensorflow-py3.6/lib/python3.6/inspect.py\", line 696, in getsourcefile\n",
      "    if getattr(getmodule(object, filename), '__loader__', None) is not None:\n",
      "  File \"/root/anaconda3/envs/tensorflow-py3.6/lib/python3.6/inspect.py\", line 725, in getmodule\n",
      "    file = getabsfile(object, _filename)\n",
      "  File \"/root/anaconda3/envs/tensorflow-py3.6/lib/python3.6/inspect.py\", line 709, in getabsfile\n",
      "    return os.path.normcase(os.path.abspath(_filename))\n",
      "  File \"/root/anaconda3/envs/tensorflow-py3.6/lib/python3.6/posixpath.py\", line 383, in abspath\n",
      "    cwd = os.getcwd()\n",
      "FileNotFoundError: [Errno 2] No such file or directory\n"
     ]
    },
    {
     "ename": "FileNotFoundError",
     "evalue": "[Errno 2] No such file or directory: '/root/Datawhale/Python_office_automation/Shuffle-Tree'",
     "output_type": "error",
     "traceback": [
      "\u001b[0;31m---------------------------------------------------------------------------\u001b[0m"
     ]
    }
   ],
   "source": [
    "os.rmdir('/root/Datawhale/Python_office_automation/Shuffle-Tree')"
   ]
  },
  {
   "cell_type": "code",
   "execution_count": 140,
   "id": "fcc6e0f9",
   "metadata": {},
   "outputs": [],
   "source": [
    "os.chdir('/root/Datawhale/Python_office_automation/')"
   ]
  },
  {
   "cell_type": "code",
   "execution_count": 141,
   "id": "2ed7b5e9",
   "metadata": {},
   "outputs": [],
   "source": [
    "# 注意：使用时，需要非常小心，避免删错文件，一般在第一次运行时，注释掉这些程序，并加上print()函数来帮助查看是否是想要删除的文件。\n",
    "import send2trash\n",
    "send2trash.send2trash('bacon.txt')"
   ]
  },
  {
   "cell_type": "code",
   "execution_count": 142,
   "id": "6fcac73f",
   "metadata": {},
   "outputs": [
    {
     "name": "stdout",
     "output_type": "stream",
     "text": [
      "the current folder is /root/Datawhale\n",
      "SubFolder is/root/Datawhale:.ipynb_checkpoints\n",
      "SubFolder is/root/Datawhale:Python_office_automation\n",
      "the filename isshuffle\n",
      "the filename isshuffle.txt\n",
      "\n",
      "the current folder is /root/Datawhale/.ipynb_checkpoints\n",
      "\n",
      "the current folder is /root/Datawhale/Python_office_automation\n",
      "SubFolder is/root/Datawhale/Python_office_automation:__pycache__\n",
      "SubFolder is/root/Datawhale/Python_office_automation:.ipynb_checkpoints\n",
      "the filename ismydata.dir\n",
      "the filename ismydata.bak\n",
      "the filename ishello.txt\n",
      "the filename ismydata.dat\n",
      "the filename ismyCats.py\n",
      "the filename isTask-01.ipynb\n",
      "\n",
      "the current folder is /root/Datawhale/Python_office_automation/__pycache__\n",
      "the filename ismyCats.cpython-36.pyc\n",
      "\n",
      "the current folder is /root/Datawhale/Python_office_automation/.ipynb_checkpoints\n",
      "the filename isTask-01-checkpoint.ipynb\n",
      "\n"
     ]
    }
   ],
   "source": [
    "# 遍历目录树\n",
    "import os\n",
    "for foldername, subFolders, fileNames in os.walk('/root/Datawhale'):\n",
    "    print('the current folder is ' + foldername)\n",
    "    for subFolder in subFolders:\n",
    "        print('SubFolder is' + foldername + ':' + subFolder)\n",
    "    for fileName in fileNames:\n",
    "        print('the filename is' + fileName)\n",
    "    print('')"
   ]
  },
  {
   "cell_type": "code",
   "execution_count": 144,
   "id": "534e42bb",
   "metadata": {},
   "outputs": [
    {
     "name": "stdout",
     "output_type": "stream",
     "text": [
      "/root/Datawhale/Python_office_automation\r\n"
     ]
    }
   ],
   "source": [
    "!pwd"
   ]
  },
  {
   "cell_type": "code",
   "execution_count": 146,
   "id": "982018a1",
   "metadata": {},
   "outputs": [],
   "source": [
    "#为方便传输，常常将文件打包成.zip格式文件。利用zipfile模块中的函数，Python程序可以创建和打开\n",
    "#（或解压）zip文件。\n",
    "# 创建和添加到zip文件\n",
    "\n",
    "# 1. 创建 一个 new.zip 压缩文件， 并向其中添加文件\n",
    "import zipfile\n",
    "newZip = zipfile.ZipFile('new.zip', 'w')\n",
    "# 前面一个是添加的文件，第二个是压缩的算法\n",
    "newZip.write('Miki.txt', compress_type=zipfile.ZIP_DEFLATED)\n",
    "newZip.close()"
   ]
  },
  {
   "cell_type": "code",
   "execution_count": 147,
   "id": "95218d70",
   "metadata": {},
   "outputs": [],
   "source": [
    "newZip = zipfile.ZipFile('new.zip', 'w')\n",
    "newZip.write('/root/Datawhale/Python_office_automation/Task-01.ipynb',compress_type=zipfile.ZIP_DEFLATED)\n",
    "newZip.close()"
   ]
  },
  {
   "cell_type": "code",
   "execution_count": 191,
   "id": "3f030256",
   "metadata": {},
   "outputs": [],
   "source": [
    "# 创建一个example.zip的压缩文件，将animals文件夹下所有文件进行压缩\n",
    "import zipfile\n",
    "import os\n",
    "newZip = zipfile.ZipFile('example.zip', 'w')\n",
    "for foldername, subfolders, filenames in os.walk('/root/Datawhale/Python_office_automation'):\n",
    "    for filename in filenames:\n",
    "        newZip.write(os.path.join(foldername, filename), compress_type=zipfile.ZIP_DEFLATED)\n",
    "\n",
    "newZip.close()"
   ]
  },
  {
   "cell_type": "code",
   "execution_count": 192,
   "id": "b5961816",
   "metadata": {},
   "outputs": [
    {
     "data": {
      "text/plain": [
       "['root/Datawhale/Python_office_automation/example.zip',\n",
       " 'root/Datawhale/Python_office_automation/mydata.dir',\n",
       " 'root/Datawhale/Python_office_automation/mydata.bak',\n",
       " 'root/Datawhale/Python_office_automation/hello.txt',\n",
       " 'root/Datawhale/Python_office_automation/mydata.dat',\n",
       " 'root/Datawhale/Python_office_automation/myCats.py',\n",
       " 'root/Datawhale/Python_office_automation/Task-01.ipynb',\n",
       " 'root/Datawhale/Python_office_automation/Miki.txt',\n",
       " 'root/Datawhale/Python_office_automation/new.zip',\n",
       " 'root/Datawhale/Python_office_automation/__pycache__/myCats.cpython-36.pyc',\n",
       " 'root/Datawhale/Python_office_automation/root/Datawhale/Python_office_automation/example.zip',\n",
       " 'root/Datawhale/Python_office_automation/root/Datawhale/Python_office_automation/mydata.dir',\n",
       " 'root/Datawhale/Python_office_automation/root/Datawhale/Python_office_automation/mydata.bak',\n",
       " 'root/Datawhale/Python_office_automation/root/Datawhale/Python_office_automation/hello.txt',\n",
       " 'root/Datawhale/Python_office_automation/root/Datawhale/Python_office_automation/mydata.dat',\n",
       " 'root/Datawhale/Python_office_automation/root/Datawhale/Python_office_automation/myCats.py',\n",
       " 'root/Datawhale/Python_office_automation/root/Datawhale/Python_office_automation/Task-01.ipynb',\n",
       " 'root/Datawhale/Python_office_automation/root/Datawhale/Python_office_automation/Miki.txt',\n",
       " 'root/Datawhale/Python_office_automation/root/Datawhale/Python_office_automation/new.zip',\n",
       " 'root/Datawhale/Python_office_automation/root/Datawhale/Python_office_automation/__pycache__/myCats.cpython-36.pyc',\n",
       " 'root/Datawhale/Python_office_automation/root/Datawhale/Python_office_automation/.ipynb_checkpoints/Task-01-checkpoint.ipynb',\n",
       " 'root/Datawhale/Python_office_automation/.ipynb_checkpoints/Task-01-checkpoint.ipynb']"
      ]
     },
     "execution_count": 192,
     "metadata": {},
     "output_type": "execute_result"
    }
   ],
   "source": [
    "# 读取 ZIP文件\n",
    "import zipfile, os\n",
    "exampleZip = zipfile.ZipFile('example.zip')\n",
    "exampleZip.namelist()"
   ]
  },
  {
   "cell_type": "code",
   "execution_count": 173,
   "id": "f17449f0",
   "metadata": {},
   "outputs": [],
   "source": [
    "CatInfo = exampleZip.getinfo('root/Datawhale/Python_office_automation/Miki.txt')"
   ]
  },
  {
   "cell_type": "code",
   "execution_count": 175,
   "id": "a0df0b53",
   "metadata": {},
   "outputs": [
    {
     "data": {
      "text/plain": [
       "2"
      ]
     },
     "execution_count": 175,
     "metadata": {},
     "output_type": "execute_result"
    }
   ],
   "source": [
    "CatInfo.compress_size"
   ]
  },
  {
   "cell_type": "code",
   "execution_count": 180,
   "id": "77910688",
   "metadata": {},
   "outputs": [
    {
     "name": "stdout",
     "output_type": "stream",
     "text": [
      "Compress file is 0.0 x smaller\n"
     ]
    }
   ],
   "source": [
    "print('Compress file is %s x smaller' % (round(CatInfo.file_size/CatInfo.compress_size, 2)))"
   ]
  },
  {
   "cell_type": "code",
   "execution_count": 193,
   "id": "23ff91a2",
   "metadata": {},
   "outputs": [],
   "source": [
    "exampleZip.close()"
   ]
  },
  {
   "cell_type": "code",
   "execution_count": 187,
   "id": "688e2516",
   "metadata": {},
   "outputs": [
    {
     "ename": "BadZipFile",
     "evalue": "File is not a zip file",
     "output_type": "error",
     "traceback": [
      "\u001b[0;31m---------------------------------------------------------------------------\u001b[0m",
      "\u001b[0;31mBadZipFile\u001b[0m                                Traceback (most recent call last)",
      "\u001b[0;32m<ipython-input-187-3479013bdcd2>\u001b[0m in \u001b[0;36m<module>\u001b[0;34m\u001b[0m\n\u001b[1;32m      1\u001b[0m \u001b[0;31m# 从 zip 文件中解压缩\u001b[0m\u001b[0;34m\u001b[0m\u001b[0;34m\u001b[0m\u001b[0;34m\u001b[0m\u001b[0m\n\u001b[1;32m      2\u001b[0m \u001b[0;32mimport\u001b[0m \u001b[0mzipfile\u001b[0m\u001b[0;34m,\u001b[0m \u001b[0mos\u001b[0m\u001b[0;34m\u001b[0m\u001b[0;34m\u001b[0m\u001b[0m\n\u001b[0;32m----> 3\u001b[0;31m \u001b[0mexampleZip\u001b[0m \u001b[0;34m=\u001b[0m \u001b[0mzipfile\u001b[0m\u001b[0;34m.\u001b[0m\u001b[0mZipFile\u001b[0m\u001b[0;34m(\u001b[0m\u001b[0;34m'/root/Datawhale/Python_office_automation/example.zip'\u001b[0m\u001b[0;34m)\u001b[0m\u001b[0;34m\u001b[0m\u001b[0;34m\u001b[0m\u001b[0m\n\u001b[0m\u001b[1;32m      4\u001b[0m \u001b[0mexampleZip\u001b[0m\u001b[0;34m.\u001b[0m\u001b[0mextractall\u001b[0m\u001b[0;34m(\u001b[0m\u001b[0;34m'./zip'\u001b[0m\u001b[0;34m)\u001b[0m\u001b[0;34m\u001b[0m\u001b[0;34m\u001b[0m\u001b[0m\n\u001b[1;32m      5\u001b[0m \u001b[0mexampleZip\u001b[0m\u001b[0;34m.\u001b[0m\u001b[0mclose\u001b[0m\u001b[0;34m(\u001b[0m\u001b[0;34m)\u001b[0m\u001b[0;34m\u001b[0m\u001b[0;34m\u001b[0m\u001b[0m\n",
      "\u001b[0;32m~/anaconda3/envs/tensorflow-py3.6/lib/python3.6/zipfile.py\u001b[0m in \u001b[0;36m__init__\u001b[0;34m(self, file, mode, compression, allowZip64)\u001b[0m\n\u001b[1;32m   1129\u001b[0m         \u001b[0;32mtry\u001b[0m\u001b[0;34m:\u001b[0m\u001b[0;34m\u001b[0m\u001b[0;34m\u001b[0m\u001b[0m\n\u001b[1;32m   1130\u001b[0m             \u001b[0;32mif\u001b[0m \u001b[0mmode\u001b[0m \u001b[0;34m==\u001b[0m \u001b[0;34m'r'\u001b[0m\u001b[0;34m:\u001b[0m\u001b[0;34m\u001b[0m\u001b[0;34m\u001b[0m\u001b[0m\n\u001b[0;32m-> 1131\u001b[0;31m                 \u001b[0mself\u001b[0m\u001b[0;34m.\u001b[0m\u001b[0m_RealGetContents\u001b[0m\u001b[0;34m(\u001b[0m\u001b[0;34m)\u001b[0m\u001b[0;34m\u001b[0m\u001b[0;34m\u001b[0m\u001b[0m\n\u001b[0m\u001b[1;32m   1132\u001b[0m             \u001b[0;32melif\u001b[0m \u001b[0mmode\u001b[0m \u001b[0;32min\u001b[0m \u001b[0;34m(\u001b[0m\u001b[0;34m'w'\u001b[0m\u001b[0;34m,\u001b[0m \u001b[0;34m'x'\u001b[0m\u001b[0;34m)\u001b[0m\u001b[0;34m:\u001b[0m\u001b[0;34m\u001b[0m\u001b[0;34m\u001b[0m\u001b[0m\n\u001b[1;32m   1133\u001b[0m                 \u001b[0;31m# set the modified flag so central directory gets written\u001b[0m\u001b[0;34m\u001b[0m\u001b[0;34m\u001b[0m\u001b[0;34m\u001b[0m\u001b[0m\n",
      "\u001b[0;32m~/anaconda3/envs/tensorflow-py3.6/lib/python3.6/zipfile.py\u001b[0m in \u001b[0;36m_RealGetContents\u001b[0;34m(self)\u001b[0m\n\u001b[1;32m   1196\u001b[0m             \u001b[0;32mraise\u001b[0m \u001b[0mBadZipFile\u001b[0m\u001b[0;34m(\u001b[0m\u001b[0;34m\"File is not a zip file\"\u001b[0m\u001b[0;34m)\u001b[0m\u001b[0;34m\u001b[0m\u001b[0;34m\u001b[0m\u001b[0m\n\u001b[1;32m   1197\u001b[0m         \u001b[0;32mif\u001b[0m \u001b[0;32mnot\u001b[0m \u001b[0mendrec\u001b[0m\u001b[0;34m:\u001b[0m\u001b[0;34m\u001b[0m\u001b[0;34m\u001b[0m\u001b[0m\n\u001b[0;32m-> 1198\u001b[0;31m             \u001b[0;32mraise\u001b[0m \u001b[0mBadZipFile\u001b[0m\u001b[0;34m(\u001b[0m\u001b[0;34m\"File is not a zip file\"\u001b[0m\u001b[0;34m)\u001b[0m\u001b[0;34m\u001b[0m\u001b[0;34m\u001b[0m\u001b[0m\n\u001b[0m\u001b[1;32m   1199\u001b[0m         \u001b[0;32mif\u001b[0m \u001b[0mself\u001b[0m\u001b[0;34m.\u001b[0m\u001b[0mdebug\u001b[0m \u001b[0;34m>\u001b[0m \u001b[0;36m1\u001b[0m\u001b[0;34m:\u001b[0m\u001b[0;34m\u001b[0m\u001b[0;34m\u001b[0m\u001b[0m\n\u001b[1;32m   1200\u001b[0m             \u001b[0mprint\u001b[0m\u001b[0;34m(\u001b[0m\u001b[0mendrec\u001b[0m\u001b[0;34m)\u001b[0m\u001b[0;34m\u001b[0m\u001b[0;34m\u001b[0m\u001b[0m\n",
      "\u001b[0;31mBadZipFile\u001b[0m: File is not a zip file"
     ]
    }
   ],
   "source": [
    "# 从 zip 文件中解压缩\n",
    "import zipfile, os\n",
    "exampleZip = zipfile.ZipFile('/root/Datawhale/Python_office_automation/example.zip')\n",
    "exampleZip.extractall('./zip')\n",
    "exampleZip.close()"
   ]
  },
  {
   "cell_type": "code",
   "execution_count": 194,
   "id": "3f5de8a7",
   "metadata": {},
   "outputs": [],
   "source": [
    "exampleZip = zipfile.ZipFile('/root/Datawhale/Python_office_automation/example.zip')\n",
    "exampleZip.extract('root/Datawhale/Python_office_automation/Miki.txt')\n",
    "exampleZip.extract('root/Datawhale/Python_office_automation/Miki.txt', '/home/liucheng/python-auto-zip')\n",
    "exampleZip.close()"
   ]
  },
  {
   "cell_type": "code",
   "execution_count": 218,
   "id": "22bcea3a",
   "metadata": {},
   "outputs": [
    {
     "ename": "FileNotFoundError",
     "evalue": "[Errno 2] No such file or directory: '/home/xxxx/Task01'",
     "output_type": "error",
     "traceback": [
      "\u001b[0;31m---------------------------------------------------------------------------\u001b[0m",
      "\u001b[0;31mFileNotFoundError\u001b[0m                         Traceback (most recent call last)",
      "\u001b[0;32m<ipython-input-218-5c63cdc5dcac>\u001b[0m in \u001b[0;36m<module>\u001b[0;34m\u001b[0m\n\u001b[1;32m     13\u001b[0m \u001b[0;31m#\u001b[0m\u001b[0;34m\u001b[0m\u001b[0;34m\u001b[0m\u001b[0;34m\u001b[0m\u001b[0m\n\u001b[1;32m     14\u001b[0m \u001b[0mtype\u001b[0m\u001b[0;34m=\u001b[0m\u001b[0;34m'txt'\u001b[0m\u001b[0;34m\u001b[0m\u001b[0;34m\u001b[0m\u001b[0m\n\u001b[0;32m---> 15\u001b[0;31m \u001b[0mcopy_filetype\u001b[0m\u001b[0;34m(\u001b[0m\u001b[0mpath\u001b[0m\u001b[0;34m,\u001b[0m \u001b[0mtype\u001b[0m\u001b[0;34m)\u001b[0m\u001b[0;34m\u001b[0m\u001b[0;34m\u001b[0m\u001b[0m\n\u001b[0m\u001b[1;32m     16\u001b[0m \u001b[0;34m\u001b[0m\u001b[0m\n\u001b[1;32m     17\u001b[0m \u001b[0;31m# reference:https://blog.csdn.net/zzl49689981/article/details/117898291\u001b[0m\u001b[0;34m\u001b[0m\u001b[0;34m\u001b[0m\u001b[0;34m\u001b[0m\u001b[0m\n",
      "\u001b[0;32m<ipython-input-218-5c63cdc5dcac>\u001b[0m in \u001b[0;36mcopy_filetype\u001b[0;34m(path, type)\u001b[0m\n\u001b[1;32m      8\u001b[0m             \u001b[0;32mif\u001b[0m \u001b[0mfilename\u001b[0m\u001b[0;34m.\u001b[0m\u001b[0mendswith\u001b[0m\u001b[0;34m(\u001b[0m\u001b[0mtype\u001b[0m\u001b[0;34m)\u001b[0m\u001b[0;34m:\u001b[0m\u001b[0;34m\u001b[0m\u001b[0;34m\u001b[0m\u001b[0m\n\u001b[1;32m      9\u001b[0m                 \u001b[0;31m# 复制的目录一定要先存在，不然生成无拓展名的文件\u001b[0m\u001b[0;34m\u001b[0m\u001b[0;34m\u001b[0m\u001b[0;34m\u001b[0m\u001b[0m\n\u001b[0;32m---> 10\u001b[0;31m                 \u001b[0mshutil\u001b[0m\u001b[0;34m.\u001b[0m\u001b[0mcopy\u001b[0m\u001b[0;34m(\u001b[0m\u001b[0mos\u001b[0m\u001b[0;34m.\u001b[0m\u001b[0mpath\u001b[0m\u001b[0;34m.\u001b[0m\u001b[0mjoin\u001b[0m\u001b[0;34m(\u001b[0m\u001b[0mfolderName\u001b[0m\u001b[0;34m,\u001b[0m \u001b[0mfilename\u001b[0m\u001b[0;34m)\u001b[0m\u001b[0;34m,\u001b[0m\u001b[0;34m'/home/xxxx/Task01'\u001b[0m\u001b[0;34m)\u001b[0m\u001b[0;34m\u001b[0m\u001b[0;34m\u001b[0m\u001b[0m\n\u001b[0m\u001b[1;32m     11\u001b[0m \u001b[0;31m# 给出遍历地址\u001b[0m\u001b[0;34m\u001b[0m\u001b[0;34m\u001b[0m\u001b[0;34m\u001b[0m\u001b[0m\n\u001b[1;32m     12\u001b[0m \u001b[0mpath\u001b[0m\u001b[0;34m=\u001b[0m\u001b[0;34m'/root/Datawhale/'\u001b[0m\u001b[0;34m\u001b[0m\u001b[0;34m\u001b[0m\u001b[0m\n",
      "\u001b[0;32m~/anaconda3/envs/tensorflow-py3.6/lib/python3.6/shutil.py\u001b[0m in \u001b[0;36mcopy\u001b[0;34m(src, dst, follow_symlinks)\u001b[0m\n\u001b[1;32m    243\u001b[0m     \u001b[0;32mif\u001b[0m \u001b[0mos\u001b[0m\u001b[0;34m.\u001b[0m\u001b[0mpath\u001b[0m\u001b[0;34m.\u001b[0m\u001b[0misdir\u001b[0m\u001b[0;34m(\u001b[0m\u001b[0mdst\u001b[0m\u001b[0;34m)\u001b[0m\u001b[0;34m:\u001b[0m\u001b[0;34m\u001b[0m\u001b[0;34m\u001b[0m\u001b[0m\n\u001b[1;32m    244\u001b[0m         \u001b[0mdst\u001b[0m \u001b[0;34m=\u001b[0m \u001b[0mos\u001b[0m\u001b[0;34m.\u001b[0m\u001b[0mpath\u001b[0m\u001b[0;34m.\u001b[0m\u001b[0mjoin\u001b[0m\u001b[0;34m(\u001b[0m\u001b[0mdst\u001b[0m\u001b[0;34m,\u001b[0m \u001b[0mos\u001b[0m\u001b[0;34m.\u001b[0m\u001b[0mpath\u001b[0m\u001b[0;34m.\u001b[0m\u001b[0mbasename\u001b[0m\u001b[0;34m(\u001b[0m\u001b[0msrc\u001b[0m\u001b[0;34m)\u001b[0m\u001b[0;34m)\u001b[0m\u001b[0;34m\u001b[0m\u001b[0;34m\u001b[0m\u001b[0m\n\u001b[0;32m--> 245\u001b[0;31m     \u001b[0mcopyfile\u001b[0m\u001b[0;34m(\u001b[0m\u001b[0msrc\u001b[0m\u001b[0;34m,\u001b[0m \u001b[0mdst\u001b[0m\u001b[0;34m,\u001b[0m \u001b[0mfollow_symlinks\u001b[0m\u001b[0;34m=\u001b[0m\u001b[0mfollow_symlinks\u001b[0m\u001b[0;34m)\u001b[0m\u001b[0;34m\u001b[0m\u001b[0;34m\u001b[0m\u001b[0m\n\u001b[0m\u001b[1;32m    246\u001b[0m     \u001b[0mcopymode\u001b[0m\u001b[0;34m(\u001b[0m\u001b[0msrc\u001b[0m\u001b[0;34m,\u001b[0m \u001b[0mdst\u001b[0m\u001b[0;34m,\u001b[0m \u001b[0mfollow_symlinks\u001b[0m\u001b[0;34m=\u001b[0m\u001b[0mfollow_symlinks\u001b[0m\u001b[0;34m)\u001b[0m\u001b[0;34m\u001b[0m\u001b[0;34m\u001b[0m\u001b[0m\n\u001b[1;32m    247\u001b[0m     \u001b[0;32mreturn\u001b[0m \u001b[0mdst\u001b[0m\u001b[0;34m\u001b[0m\u001b[0;34m\u001b[0m\u001b[0m\n",
      "\u001b[0;32m~/anaconda3/envs/tensorflow-py3.6/lib/python3.6/shutil.py\u001b[0m in \u001b[0;36mcopyfile\u001b[0;34m(src, dst, follow_symlinks)\u001b[0m\n\u001b[1;32m    119\u001b[0m     \u001b[0;32melse\u001b[0m\u001b[0;34m:\u001b[0m\u001b[0;34m\u001b[0m\u001b[0;34m\u001b[0m\u001b[0m\n\u001b[1;32m    120\u001b[0m         \u001b[0;32mwith\u001b[0m \u001b[0mopen\u001b[0m\u001b[0;34m(\u001b[0m\u001b[0msrc\u001b[0m\u001b[0;34m,\u001b[0m \u001b[0;34m'rb'\u001b[0m\u001b[0;34m)\u001b[0m \u001b[0;32mas\u001b[0m \u001b[0mfsrc\u001b[0m\u001b[0;34m:\u001b[0m\u001b[0;34m\u001b[0m\u001b[0;34m\u001b[0m\u001b[0m\n\u001b[0;32m--> 121\u001b[0;31m             \u001b[0;32mwith\u001b[0m \u001b[0mopen\u001b[0m\u001b[0;34m(\u001b[0m\u001b[0mdst\u001b[0m\u001b[0;34m,\u001b[0m \u001b[0;34m'wb'\u001b[0m\u001b[0;34m)\u001b[0m \u001b[0;32mas\u001b[0m \u001b[0mfdst\u001b[0m\u001b[0;34m:\u001b[0m\u001b[0;34m\u001b[0m\u001b[0;34m\u001b[0m\u001b[0m\n\u001b[0m\u001b[1;32m    122\u001b[0m                 \u001b[0mcopyfileobj\u001b[0m\u001b[0;34m(\u001b[0m\u001b[0mfsrc\u001b[0m\u001b[0;34m,\u001b[0m \u001b[0mfdst\u001b[0m\u001b[0;34m)\u001b[0m\u001b[0;34m\u001b[0m\u001b[0;34m\u001b[0m\u001b[0m\n\u001b[1;32m    123\u001b[0m     \u001b[0;32mreturn\u001b[0m \u001b[0mdst\u001b[0m\u001b[0;34m\u001b[0m\u001b[0;34m\u001b[0m\u001b[0m\n",
      "\u001b[0;31mFileNotFoundError\u001b[0m: [Errno 2] No such file or directory: '/home/xxxx/Task01'"
     ]
    }
   ],
   "source": [
    "import os\n",
    "import shutil\n",
    "\n",
    "def copy_filetype(path, type):\n",
    "    for folderName, subFolders,fileNames in os.walk(path):\n",
    "        for filename in fileNames:\n",
    "        #print('File Inside ' + folderName+':'+filename)\n",
    "            if filename.endswith(type):\n",
    "                # 复制的目录一定要先存在，不然生成无拓展名的文件\n",
    "                shutil.copy(os.path.join(folderName, filename),'/home/xxxx/Task01')\n",
    "# 给出遍历地址\n",
    "path='/root/Datawhale/'\n",
    "#\n",
    "type='txt'\n",
    "copy_filetype(path, type)\n",
    "\n",
    "# reference:https://blog.csdn.net/zzl49689981/article/details/117898291"
   ]
  },
  {
   "cell_type": "code",
   "execution_count": 202,
   "id": "d50aefa2",
   "metadata": {},
   "outputs": [
    {
     "name": "stdout",
     "output_type": "stream",
     "text": [
      "am.pak\tde.pak\t    fa.pak   hr.pak  lt.pak  pl.pak\tsr.pak\tuk.pak\r\n",
      "ar.pak\tel.pak\t    fi.pak   hu.pak  lv.pak  pt-BR.pak\tsv.pak\tvi.pak\r\n",
      "bg.pak\ten-GB.pak   fil.pak  id.pak  ml.pak  pt-PT.pak\tsw.pak\tzh-CN.pak\r\n",
      "bn.pak\ten-US.pak   fr.pak   it.pak  mr.pak  ro.pak\tta.pak\tzh-TW.pak\r\n",
      "ca.pak\tes-419.pak  gu.pak   ja.pak  ms.pak  ru.pak\tte.pak\r\n",
      "cs.pak\tes.pak\t    he.pak   kn.pak  nb.pak  sk.pak\tth.pak\r\n",
      "da.pak\tet.pak\t    hi.pak   ko.pak  nl.pak  sl.pak\ttr.pak\r\n"
     ]
    }
   ],
   "source": [
    "!ls /root/anaconda3/translations/qtwebengine_locales"
   ]
  },
  {
   "cell_type": "code",
   "execution_count": 230,
   "id": "5a8ef147",
   "metadata": {},
   "outputs": [
    {
     "name": "stdout",
     "output_type": "stream",
     "text": [
      "Task-01.ipynb 是否删除(y/n)n\n",
      "Task-01.ipynb 是否删除(y/n)n\n",
      "Task-01-checkpoint.ipynb 是否删除(y/n)n\n",
      "Task-01-checkpoint.ipynb 是否删除(y/n)n\n"
     ]
    }
   ],
   "source": [
    "def remove_big_flies(path, size):\n",
    "    for dirpaths, subFolders,fileNames in os.walk(path):\n",
    "        for fileName in fileNames:\n",
    "                if os.path.getsize(os.path.join(dirpaths, fileName))>= size:\n",
    "                    flag = input('{} 是否删除(y/n)'.format(fileName))\n",
    "                    if flag=='y':\n",
    "                        #print(dirpaths)\n",
    "                        os.unlink(os.path.join(dirpaths,fileName))\n",
    "                    else:\n",
    "                        pass\n",
    "                    \n",
    "path = '/root/Datawhale/'\n",
    "size = 10  * 1024\n",
    "remove_big_flies(path, size)\n",
    "# reference: https://blog.csdn.net/weixin_43287121/article/details/104484913"
   ]
  },
  {
   "cell_type": "code",
   "execution_count": 261,
   "id": "2b9d4e73",
   "metadata": {},
   "outputs": [],
   "source": [
    "import os\n",
    "\n",
    "spamList = []\n",
    "fullList = []\n",
    "\n",
    "def modify_file_name(path):\n",
    "    for file in os.listdir(path):\n",
    "        if file.startswith('spam') and file.endswith('txt'):\n",
    "            spamList.append(file)\n",
    "    # 将列表从小到大从新排列 \n",
    "    spamList.sort()\n",
    "    \n",
    "    # 找到列表最后一个元素对应的数值，创建一个完整的列表\n",
    "    finalNum = int(spamList[-1][5:-4])\n",
    "    for i in range(1, finalNum+1):\n",
    "        fileNum = str(i).zfill(3)\n",
    "        fullList.append('spam' + fileNum + '.txt')\n",
    "    \n",
    "    diffList = list(set(fullList).difference(set(spamList)))\n",
    "    print(diffList)\n",
    "    print('---------------------')\n",
    "    print(spamList)\n",
    "    print('---------------------')\n",
    "    print(fullList)\n",
    "    \n",
    "    for i in range((len(diffList)* -1),  0):\n",
    "        print(i)\n",
    "        os.rename(spamList[i], diffList[i])\n",
    "\n",
    "\n",
    "# reference:https://www.jianshu.com/p/ab1c1ebee4f1"
   ]
  },
  {
   "cell_type": "code",
   "execution_count": 262,
   "id": "91069c43",
   "metadata": {},
   "outputs": [
    {
     "name": "stdout",
     "output_type": "stream",
     "text": [
      "[]\n",
      "---------------------\n",
      "['spam001.txt', 'spam001.txt', 'spam002.txt', 'spam003.txt', 'spam003.txt', 'spam004.txt', 'spam005.txt', 'spam006.txt', 'spam007.txt', 'spam008.txt']\n",
      "---------------------\n",
      "['spam001.txt', 'spam002.txt', 'spam003.txt', 'spam004.txt', 'spam005.txt', 'spam006.txt', 'spam007.txt', 'spam008.txt', 'spam001.txt', 'spam002.txt', 'spam003.txt', 'spam004.txt', 'spam005.txt', 'spam006.txt', 'spam007.txt', 'spam008.txt']\n"
     ]
    }
   ],
   "source": [
    "modify_file_name('.')"
   ]
  },
  {
   "cell_type": "code",
   "execution_count": 255,
   "id": "1c7ba28d",
   "metadata": {},
   "outputs": [
    {
     "ename": "IndexError",
     "evalue": "list index out of range",
     "output_type": "error",
     "traceback": [
      "\u001b[0;31m---------------------------------------------------------------------------\u001b[0m",
      "\u001b[0;31mIndexError\u001b[0m                                Traceback (most recent call last)",
      "\u001b[0;32m<ipython-input-255-c7a1e4be6550>\u001b[0m in \u001b[0;36m<module>\u001b[0;34m\u001b[0m\n\u001b[1;32m     26\u001b[0m \u001b[0;31m#spamList倒序，从后往前，改为diffList的名字。\u001b[0m\u001b[0;34m\u001b[0m\u001b[0;34m\u001b[0m\u001b[0;34m\u001b[0m\u001b[0m\n\u001b[1;32m     27\u001b[0m \u001b[0;32mfor\u001b[0m \u001b[0mi\u001b[0m \u001b[0;32min\u001b[0m \u001b[0mrange\u001b[0m\u001b[0;34m(\u001b[0m\u001b[0;34m(\u001b[0m\u001b[0mlen\u001b[0m\u001b[0;34m(\u001b[0m\u001b[0mdiffList\u001b[0m\u001b[0;34m)\u001b[0m \u001b[0;34m*\u001b[0m \u001b[0;34m-\u001b[0m\u001b[0;36m1\u001b[0m\u001b[0;34m)\u001b[0m\u001b[0;34m,\u001b[0m \u001b[0;36m0\u001b[0m\u001b[0;34m)\u001b[0m\u001b[0;34m:\u001b[0m\u001b[0;34m\u001b[0m\u001b[0;34m\u001b[0m\u001b[0m\n\u001b[0;32m---> 28\u001b[0;31m     \u001b[0mos\u001b[0m\u001b[0;34m.\u001b[0m\u001b[0mrename\u001b[0m\u001b[0;34m(\u001b[0m\u001b[0mspamList\u001b[0m\u001b[0;34m[\u001b[0m\u001b[0mi\u001b[0m\u001b[0;34m]\u001b[0m\u001b[0;34m,\u001b[0m \u001b[0mdiffList\u001b[0m\u001b[0;34m[\u001b[0m\u001b[0mi\u001b[0m\u001b[0;34m]\u001b[0m\u001b[0;34m)\u001b[0m\u001b[0;34m\u001b[0m\u001b[0;34m\u001b[0m\u001b[0m\n\u001b[0m",
      "\u001b[0;31mIndexError\u001b[0m: list index out of range"
     ]
    }
   ],
   "source": [
    "#!/usr/local/bin/python3.6\n",
    "# -*- coding: utf-8 -*-\n",
    "\n",
    "import os\n",
    "\n",
    "spamList = []\n",
    "fullList = []\n",
    "\n",
    "for file in os.listdir('.'):\n",
    "    if file.startswith('spam') and file.endswith('txt'):\n",
    "        spamList.append(file)\n",
    "\n",
    "#把列表从小到大排序，这个列表是不完整的，缺失了一些元素。\n",
    "spamList.sort()\n",
    "\n",
    "#找到列表最后一个元素对应的数值，以这个数值为长度，创建一个完整的列表。\n",
    "finalNum = int(spamList[-1][5:-4])\n",
    "for i in range(1, finalNum+1):\n",
    "    fileNum = str(i).zfill(3)\n",
    "    #zfill的作用是给1、2、3前面补上0。\n",
    "    fullList.append('spam' + fileNum + '.txt')\n",
    "\n",
    "#寻找spamList不存在，而fullList中存在的元素。\n",
    "diffList = list(set(fullList).difference(set(spamList)))\n",
    "\n",
    "#spamList倒序，从后往前，改为diffList的名字。\n",
    "for i in range((len(diffList) * -1), 0):\n",
    "    os.rename(spamList[i], diffList[i])"
   ]
  },
  {
   "cell_type": "code",
   "execution_count": 263,
   "id": "75a94d37",
   "metadata": {},
   "outputs": [],
   "source": [
    "import os\n",
    "import random\n",
    "import send2trash\n",
    "\n",
    "spamList = []\n",
    "\n",
    "for file in os.listdir('.'):\n",
    "    if file.startswith('spam') and file.endswith('.txt'):\n",
    "        spamList.append(file)\n",
    "        \n",
    "for delFile in random.sample(spamList, 3):\n",
    "    send2trash.send2trash(delFile)"
   ]
  }
 ],
 "metadata": {
  "kernelspec": {
   "display_name": "Python 3",
   "language": "python",
   "name": "python3"
  },
  "language_info": {
   "codemirror_mode": {
    "name": "ipython",
    "version": 3
   },
   "file_extension": ".py",
   "mimetype": "text/x-python",
   "name": "python",
   "nbconvert_exporter": "python",
   "pygments_lexer": "ipython3",
   "version": "3.6.13"
  }
 },
 "nbformat": 4,
 "nbformat_minor": 5
}
